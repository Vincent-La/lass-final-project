{
 "cells": [
  {
   "cell_type": "code",
   "execution_count": 2,
   "metadata": {},
   "outputs": [],
   "source": [
    "import pandas as pd"
   ]
  },
  {
   "cell_type": "code",
   "execution_count": 3,
   "metadata": {},
   "outputs": [],
   "source": [
    "def compute_metrics(df):\n",
    "    print(f'Average SDR: {df.sdr.mean()}')\n",
    "    print(f'Average SDRi: {df.sdri.mean()}')\n",
    "    print(f'Average SISDR: {df.sisdr.mean()}')"
   ]
  },
  {
   "cell_type": "code",
   "execution_count": 4,
   "metadata": {},
   "outputs": [],
   "source": [
    "pd.set_option('display.max_colwidth', None)"
   ]
  },
  {
   "cell_type": "code",
   "execution_count": 5,
   "metadata": {},
   "outputs": [],
   "source": [
    "df_onepeace = pd.read_csv('results/ONE-PEACE_training_subset.csv')"
   ]
  },
  {
   "cell_type": "code",
   "execution_count": 6,
   "metadata": {},
   "outputs": [
    {
     "data": {
      "text/html": [
       "<div>\n",
       "<style scoped>\n",
       "    .dataframe tbody tr th:only-of-type {\n",
       "        vertical-align: middle;\n",
       "    }\n",
       "\n",
       "    .dataframe tbody tr th {\n",
       "        vertical-align: top;\n",
       "    }\n",
       "\n",
       "    .dataframe thead th {\n",
       "        text-align: right;\n",
       "    }\n",
       "</style>\n",
       "<table border=\"1\" class=\"dataframe\">\n",
       "  <thead>\n",
       "    <tr style=\"text-align: right;\">\n",
       "      <th></th>\n",
       "      <th>caption</th>\n",
       "      <th>source_path</th>\n",
       "      <th>noise_path</th>\n",
       "      <th>sisdr</th>\n",
       "      <th>sdri</th>\n",
       "      <th>sdr</th>\n",
       "    </tr>\n",
       "  </thead>\n",
       "  <tbody>\n",
       "    <tr>\n",
       "      <th>0</th>\n",
       "      <td>A trumpet sounds with bright, bold notes.</td>\n",
       "      <td>/fs/nexus-scratch/vla/FSD50K/FSD50K.eval_audio/256487.wav</td>\n",
       "      <td>/fs/nexus-scratch/vla/FSD50K/FSD50K.dev_audio/346711.wav</td>\n",
       "      <td>21.514561</td>\n",
       "      <td>14.527504</td>\n",
       "      <td>21.527504</td>\n",
       "    </tr>\n",
       "    <tr>\n",
       "      <th>1</th>\n",
       "      <td>A printer operates with mechanical sounds.</td>\n",
       "      <td>/fs/nexus-scratch/vla/FSD50K/FSD50K.dev_audio/117945.wav</td>\n",
       "      <td>/fs/nexus-scratch/vla/Clotho/development/Glass Knock.wav</td>\n",
       "      <td>12.511349</td>\n",
       "      <td>20.628104</td>\n",
       "      <td>12.628105</td>\n",
       "    </tr>\n",
       "    <tr>\n",
       "      <th>2</th>\n",
       "      <td>Breathing sounds are audible.</td>\n",
       "      <td>/fs/nexus-scratch/vla/FSD50K/FSD50K.dev_audio/10003.wav</td>\n",
       "      <td>/fs/nexus-scratch/vla/FSD50K/FSD50K.eval_audio/347609.wav</td>\n",
       "      <td>15.318868</td>\n",
       "      <td>7.374818</td>\n",
       "      <td>15.374818</td>\n",
       "    </tr>\n",
       "    <tr>\n",
       "      <th>3</th>\n",
       "      <td>A single bell rings.</td>\n",
       "      <td>/fs/nexus-scratch/vla/FSD50K/FSD50K.dev_audio/414560.wav</td>\n",
       "      <td>/fs/nexus-scratch/vla/Clotho/development/20080629.campeones.01.wav</td>\n",
       "      <td>18.126844</td>\n",
       "      <td>15.184498</td>\n",
       "      <td>18.184498</td>\n",
       "    </tr>\n",
       "    <tr>\n",
       "      <th>4</th>\n",
       "      <td>A man's singing voice resonates.</td>\n",
       "      <td>/fs/nexus-scratch/vla/FSD50K/FSD50K.dev_audio/76672.wav</td>\n",
       "      <td>/fs/nexus-scratch/vla/FSD50K/FSD50K.dev_audio/88975.wav</td>\n",
       "      <td>23.048682</td>\n",
       "      <td>13.068268</td>\n",
       "      <td>23.068268</td>\n",
       "    </tr>\n",
       "  </tbody>\n",
       "</table>\n",
       "</div>"
      ],
      "text/plain": [
       "                                      caption  \\\n",
       "0   A trumpet sounds with bright, bold notes.   \n",
       "1  A printer operates with mechanical sounds.   \n",
       "2               Breathing sounds are audible.   \n",
       "3                        A single bell rings.   \n",
       "4            A man's singing voice resonates.   \n",
       "\n",
       "                                                 source_path  \\\n",
       "0  /fs/nexus-scratch/vla/FSD50K/FSD50K.eval_audio/256487.wav   \n",
       "1   /fs/nexus-scratch/vla/FSD50K/FSD50K.dev_audio/117945.wav   \n",
       "2    /fs/nexus-scratch/vla/FSD50K/FSD50K.dev_audio/10003.wav   \n",
       "3   /fs/nexus-scratch/vla/FSD50K/FSD50K.dev_audio/414560.wav   \n",
       "4    /fs/nexus-scratch/vla/FSD50K/FSD50K.dev_audio/76672.wav   \n",
       "\n",
       "                                                           noise_path  \\\n",
       "0            /fs/nexus-scratch/vla/FSD50K/FSD50K.dev_audio/346711.wav   \n",
       "1            /fs/nexus-scratch/vla/Clotho/development/Glass Knock.wav   \n",
       "2           /fs/nexus-scratch/vla/FSD50K/FSD50K.eval_audio/347609.wav   \n",
       "3  /fs/nexus-scratch/vla/Clotho/development/20080629.campeones.01.wav   \n",
       "4             /fs/nexus-scratch/vla/FSD50K/FSD50K.dev_audio/88975.wav   \n",
       "\n",
       "       sisdr       sdri        sdr  \n",
       "0  21.514561  14.527504  21.527504  \n",
       "1  12.511349  20.628104  12.628105  \n",
       "2  15.318868   7.374818  15.374818  \n",
       "3  18.126844  15.184498  18.184498  \n",
       "4  23.048682  13.068268  23.068268  "
      ]
     },
     "execution_count": 6,
     "metadata": {},
     "output_type": "execute_result"
    }
   ],
   "source": [
    "df_onepeace[:5]"
   ]
  },
  {
   "cell_type": "code",
   "execution_count": 7,
   "metadata": {},
   "outputs": [
    {
     "name": "stdout",
     "output_type": "stream",
     "text": [
      "ONE-PEACE Training Subset Metrics\n",
      "Average SDR: 10.592241319579289\n",
      "Average SDRi: 10.592824818551145\n",
      "Average SISDR: 9.477885999891647\n"
     ]
    }
   ],
   "source": [
    "print('ONE-PEACE Training Subset Metrics')\n",
    "compute_metrics(df_onepeace)"
   ]
  },
  {
   "cell_type": "code",
   "execution_count": 8,
   "metadata": {},
   "outputs": [],
   "source": [
    "df_clap = pd.read_csv('results/CLAP_training_subset.csv')"
   ]
  },
  {
   "cell_type": "code",
   "execution_count": 9,
   "metadata": {},
   "outputs": [
    {
     "data": {
      "text/html": [
       "<div>\n",
       "<style scoped>\n",
       "    .dataframe tbody tr th:only-of-type {\n",
       "        vertical-align: middle;\n",
       "    }\n",
       "\n",
       "    .dataframe tbody tr th {\n",
       "        vertical-align: top;\n",
       "    }\n",
       "\n",
       "    .dataframe thead th {\n",
       "        text-align: right;\n",
       "    }\n",
       "</style>\n",
       "<table border=\"1\" class=\"dataframe\">\n",
       "  <thead>\n",
       "    <tr style=\"text-align: right;\">\n",
       "      <th></th>\n",
       "      <th>caption</th>\n",
       "      <th>source_path</th>\n",
       "      <th>noise_path</th>\n",
       "      <th>sisdr</th>\n",
       "      <th>sdri</th>\n",
       "      <th>sdr</th>\n",
       "    </tr>\n",
       "  </thead>\n",
       "  <tbody>\n",
       "    <tr>\n",
       "      <th>0</th>\n",
       "      <td>A trumpet sounds with bright, bold notes.</td>\n",
       "      <td>/fs/nexus-scratch/vla/FSD50K/FSD50K.eval_audio/256487.wav</td>\n",
       "      <td>/fs/nexus-scratch/vla/FSD50K/FSD50K.dev_audio/346711.wav</td>\n",
       "      <td>-3.777549</td>\n",
       "      <td>-5.525764</td>\n",
       "      <td>1.474236</td>\n",
       "    </tr>\n",
       "    <tr>\n",
       "      <th>1</th>\n",
       "      <td>A printer operates with mechanical sounds.</td>\n",
       "      <td>/fs/nexus-scratch/vla/FSD50K/FSD50K.dev_audio/117945.wav</td>\n",
       "      <td>/fs/nexus-scratch/vla/Clotho/development/Glass Knock.wav</td>\n",
       "      <td>22.576742</td>\n",
       "      <td>30.263355</td>\n",
       "      <td>22.263356</td>\n",
       "    </tr>\n",
       "    <tr>\n",
       "      <th>2</th>\n",
       "      <td>Breathing sounds are audible.</td>\n",
       "      <td>/fs/nexus-scratch/vla/FSD50K/FSD50K.dev_audio/10003.wav</td>\n",
       "      <td>/fs/nexus-scratch/vla/FSD50K/FSD50K.eval_audio/347609.wav</td>\n",
       "      <td>14.866004</td>\n",
       "      <td>6.976233</td>\n",
       "      <td>14.976232</td>\n",
       "    </tr>\n",
       "    <tr>\n",
       "      <th>3</th>\n",
       "      <td>A single bell rings.</td>\n",
       "      <td>/fs/nexus-scratch/vla/FSD50K/FSD50K.dev_audio/414560.wav</td>\n",
       "      <td>/fs/nexus-scratch/vla/Clotho/development/20080629.campeones.01.wav</td>\n",
       "      <td>22.267787</td>\n",
       "      <td>19.244170</td>\n",
       "      <td>22.244170</td>\n",
       "    </tr>\n",
       "    <tr>\n",
       "      <th>4</th>\n",
       "      <td>A man's singing voice resonates.</td>\n",
       "      <td>/fs/nexus-scratch/vla/FSD50K/FSD50K.dev_audio/76672.wav</td>\n",
       "      <td>/fs/nexus-scratch/vla/FSD50K/FSD50K.dev_audio/88975.wav</td>\n",
       "      <td>22.752757</td>\n",
       "      <td>12.771955</td>\n",
       "      <td>22.771955</td>\n",
       "    </tr>\n",
       "  </tbody>\n",
       "</table>\n",
       "</div>"
      ],
      "text/plain": [
       "                                      caption  \\\n",
       "0   A trumpet sounds with bright, bold notes.   \n",
       "1  A printer operates with mechanical sounds.   \n",
       "2               Breathing sounds are audible.   \n",
       "3                        A single bell rings.   \n",
       "4            A man's singing voice resonates.   \n",
       "\n",
       "                                                 source_path  \\\n",
       "0  /fs/nexus-scratch/vla/FSD50K/FSD50K.eval_audio/256487.wav   \n",
       "1   /fs/nexus-scratch/vla/FSD50K/FSD50K.dev_audio/117945.wav   \n",
       "2    /fs/nexus-scratch/vla/FSD50K/FSD50K.dev_audio/10003.wav   \n",
       "3   /fs/nexus-scratch/vla/FSD50K/FSD50K.dev_audio/414560.wav   \n",
       "4    /fs/nexus-scratch/vla/FSD50K/FSD50K.dev_audio/76672.wav   \n",
       "\n",
       "                                                           noise_path  \\\n",
       "0            /fs/nexus-scratch/vla/FSD50K/FSD50K.dev_audio/346711.wav   \n",
       "1            /fs/nexus-scratch/vla/Clotho/development/Glass Knock.wav   \n",
       "2           /fs/nexus-scratch/vla/FSD50K/FSD50K.eval_audio/347609.wav   \n",
       "3  /fs/nexus-scratch/vla/Clotho/development/20080629.campeones.01.wav   \n",
       "4             /fs/nexus-scratch/vla/FSD50K/FSD50K.dev_audio/88975.wav   \n",
       "\n",
       "       sisdr       sdri        sdr  \n",
       "0  -3.777549  -5.525764   1.474236  \n",
       "1  22.576742  30.263355  22.263356  \n",
       "2  14.866004   6.976233  14.976232  \n",
       "3  22.267787  19.244170  22.244170  \n",
       "4  22.752757  12.771955  22.771955  "
      ]
     },
     "execution_count": 9,
     "metadata": {},
     "output_type": "execute_result"
    }
   ],
   "source": [
    "df_clap[:5]"
   ]
  },
  {
   "cell_type": "code",
   "execution_count": 10,
   "metadata": {},
   "outputs": [
    {
     "name": "stdout",
     "output_type": "stream",
     "text": [
      "CLAP Training Subset Metrics\n",
      "Average SDR: 10.720005192515202\n",
      "Average SDRi: 10.720588691487059\n",
      "Average SISDR: 9.276603824944521\n"
     ]
    }
   ],
   "source": [
    "print('CLAP Training Subset Metrics')\n",
    "compute_metrics(df_clap)"
   ]
  }
 ],
 "metadata": {
  "kernelspec": {
   "display_name": "Python 3",
   "language": "python",
   "name": "python3"
  },
  "language_info": {
   "codemirror_mode": {
    "name": "ipython",
    "version": 3
   },
   "file_extension": ".py",
   "mimetype": "text/x-python",
   "name": "python",
   "nbconvert_exporter": "python",
   "pygments_lexer": "ipython3",
   "version": "3.9.0"
  }
 },
 "nbformat": 4,
 "nbformat_minor": 2
}
