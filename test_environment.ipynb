{
 "cells": [
  {
   "cell_type": "code",
   "execution_count": 1,
   "metadata": {},
   "outputs": [],
   "source": [
    "%load_ext autoreload\n",
    "%autoreload 2"
   ]
  },
  {
   "cell_type": "code",
   "execution_count": 2,
   "metadata": {},
   "outputs": [
    {
     "name": "stderr",
     "output_type": "stream",
     "text": [
      "/fs/classhomes/fall2024/cmsc723/c7230005/micromamba/envs/LASS/lib/python3.9/site-packages/tqdm/auto.py:21: TqdmWarning: IProgress not found. Please update jupyter and ipywidgets. See https://ipywidgets.readthedocs.io/en/stable/user_install.html\n",
      "  from .autonotebook import tqdm as notebook_tqdm\n",
      "/fs/classhomes/fall2024/cmsc723/c7230005/micromamba/envs/LASS/lib/python3.9/site-packages/torch/functional.py:534: UserWarning: torch.meshgrid: in an upcoming release, it will be required to pass the indexing argument. (Triggered internally at ../aten/src/ATen/native/TensorShape.cpp:3595.)\n",
      "  return _VF.meshgrid(tensors, **kwargs)  # type: ignore[attr-defined]\n",
      "Some weights of RobertaModel were not initialized from the model checkpoint at roberta-base and are newly initialized: ['roberta.pooler.dense.bias', 'roberta.pooler.dense.weight']\n",
      "You should probably TRAIN this model on a down-stream task to be able to use it for predictions and inference.\n",
      "/fs/classhomes/fall2024/cmsc723/c7230005/lass-final-project/models/CLAP/open_clip/factory.py:55: FutureWarning: You are using `torch.load` with `weights_only=False` (the current default value), which uses the default pickle module implicitly. It is possible to construct malicious pickle data which will execute arbitrary code during unpickling (See https://github.com/pytorch/pytorch/blob/main/SECURITY.md#untrusted-models for more details). In a future release, the default value for `weights_only` will be flipped to `True`. This limits the functions that could be executed during unpickling. Arbitrary objects will no longer be allowed to be loaded via this mode unless they are explicitly allowlisted by the user via `torch.serialization.add_safe_globals`. We recommend you start setting `weights_only=True` for any use case where you don't have full control of the loaded file. Please open an issue on GitHub for any issues related to this experimental feature.\n",
      "  checkpoint = torch.load(checkpoint_path, map_location=map_location)\n"
     ]
    }
   ],
   "source": [
    "from dcase_evaluator import DCASEEvaluator\n",
    "from utils import (\n",
    "    calculate_sdr,\n",
    "    calculate_sisdr,\n",
    "    parse_yaml,\n",
    "    get_mean_sdr_from_dict,\n",
    ")\n",
    "from models.clap_encoder import CLAP_Encoder\n",
    "import torch\n",
    "from models.audiosep import AudioSep"
   ]
  },
  {
   "cell_type": "code",
   "execution_count": 4,
   "metadata": {},
   "outputs": [
    {
     "name": "stderr",
     "output_type": "stream",
     "text": [
      "/fs/classhomes/fall2024/cmsc723/c7230005/micromamba/envs/LASS/lib/python3.9/site-packages/fairseq/checkpoint_utils.py:317: FutureWarning: You are using `torch.load` with `weights_only=False` (the current default value), which uses the default pickle module implicitly. It is possible to construct malicious pickle data which will execute arbitrary code during unpickling (See https://github.com/pytorch/pytorch/blob/main/SECURITY.md#untrusted-models for more details). In a future release, the default value for `weights_only` will be flipped to `True`. This limits the functions that could be executed during unpickling. Arbitrary objects will no longer be allowed to be loaded via this mode unless they are explicitly allowlisted by the user via `torch.serialization.add_safe_globals`. We recommend you start setting `weights_only=True` for any use case where you don't have full control of the loaded file. Please open an issue on GitHub for any issues related to this experimental feature.\n",
      "  state = torch.load(f, map_location=torch.device(\"cpu\"))\n"
     ]
    }
   ],
   "source": [
    "from models.one_peace_encoder import ONE_PEACE_Encoder\n",
    "import os\n",
    "\n",
    "# ONE_PEACE modelhub expects some paths to be relative to this dir\n",
    "os.chdir('ONE-PEACE/')\n",
    "\n",
    "# TODO:path in shared scratch dir for now..., move to class project dir whenever we get that\n",
    "encoder = ONE_PEACE_Encoder(pretrained_path='/fs/nexus-scratch/vla/finetune_al_retrieval.pt')"
   ]
  },
  {
   "cell_type": "code",
   "execution_count": 4,
   "metadata": {},
   "outputs": [
    {
     "name": "stdout",
     "output_type": "stream",
     "text": [
      "Audio-to-text similarities: tensor([[0.4051, 0.2017, 0.2907],\n",
      "        [0.1681, 0.4472, 0.2034]], device='cuda:0')\n"
     ]
    }
   ],
   "source": [
    "model = encoder.model\n",
    "\n",
    "# test one-peace\n",
    "# process raw data\n",
    "src_tokens = model.process_text([\"cow\", \"dog\", \"elephant\"])\n",
    "# src_images = model.process_image([\"assets/dog.JPEG\", \"assets/elephant.JPEG\"])\n",
    "src_audios, audio_padding_masks = model.process_audio([\"assets/cow.flac\", \"assets/dog.flac\"])\n",
    "\n",
    "with torch.no_grad():\n",
    "    # extract normalized features\n",
    "    text_features = model.extract_text_features(src_tokens)\n",
    "    # image_features = model.extract_image_features(src_images)\n",
    "    audio_features = model.extract_audio_features(src_audios, audio_padding_masks)\n",
    "\n",
    "    # compute similarity\n",
    "    # i2t_similarity = image_features @ text_features.T\n",
    "    a2t_similarity = audio_features @ text_features.T\n",
    "\n",
    "# print(\"Image-to-text similarities:\", i2t_similarity)\n",
    "print(\"Audio-to-text similarities:\", a2t_similarity)"
   ]
  },
  {
   "cell_type": "code",
   "execution_count": 5,
   "metadata": {},
   "outputs": [
    {
     "name": "stdout",
     "output_type": "stream",
     "text": [
      "torch.Size([3, 1536])\n"
     ]
    },
    {
     "data": {
      "text/plain": [
       "tensor([[-0.0043,  0.0056, -0.0134,  ...,  0.0168,  0.0266,  0.0100],\n",
       "        [ 0.0346, -0.0231,  0.0210,  ...,  0.0081, -0.0160, -0.0179],\n",
       "        [ 0.0415,  0.0005, -0.0117,  ...,  0.0242,  0.0015,  0.0470]],\n",
       "       device='cuda:0')"
      ]
     },
     "execution_count": 5,
     "metadata": {},
     "output_type": "execute_result"
    }
   ],
   "source": [
    "print(text_features.shape)\n",
    "text_features"
   ]
  },
  {
   "cell_type": "code",
   "execution_count": 6,
   "metadata": {},
   "outputs": [
    {
     "name": "stdout",
     "output_type": "stream",
     "text": [
      "torch.Size([2, 1536])\n"
     ]
    },
    {
     "data": {
      "text/plain": [
       "tensor([[-1.0143e-02, -7.9912e-03, -4.8427e-03,  ..., -1.1590e-02,\n",
       "          1.5469e-02,  1.6949e-02],\n",
       "        [ 3.5734e-02, -7.7274e-05,  1.0751e-02,  ...,  1.0404e-02,\n",
       "          2.4992e-02, -8.9207e-03]], device='cuda:0')"
      ]
     },
     "execution_count": 6,
     "metadata": {},
     "output_type": "execute_result"
    }
   ],
   "source": [
    "print(audio_features.shape)\n",
    "audio_features"
   ]
  },
  {
   "cell_type": "code",
   "execution_count": 5,
   "metadata": {},
   "outputs": [],
   "source": [
    "# back to top-level dir...\n",
    "os.chdir('..')"
   ]
  },
  {
   "cell_type": "code",
   "execution_count": null,
   "metadata": {},
   "outputs": [],
   "source": [
    "def get_model_class(model_type):\n",
    "    if model_type == 'ResUNet30':\n",
    "        from models.resunet import ResUNet30\n",
    "        return ResUNet30\n",
    "\n",
    "    else:\n",
    "        raise NotImplementedError\n",
    "    \n",
    "\n",
    "def load_ss_model(configs,\n",
    "    checkpoint_path: str,\n",
    "    query_encoder\n",
    "):\n",
    "    r\"\"\"Load trained universal source separation model.\n",
    "\n",
    "    Args:\n",
    "        configs (Dict)\n",
    "        checkpoint_path (str): path of the checkpoint to load\n",
    "        device (str): e.g., \"cpu\" | \"cuda\"\n",
    "\n",
    "    Returns:\n",
    "        pl_model: pl.LightningModule\n",
    "    \"\"\"\n",
    "\n",
    "    ss_model_type = configs[\"model\"][\"model_type\"]\n",
    "    input_channels = configs[\"model\"][\"input_channels\"]\n",
    "    output_channels = configs[\"model\"][\"output_channels\"]\n",
    "    condition_size = configs[\"model\"][\"condition_size\"]\n",
    "    \n",
    "    # Initialize separation model\n",
    "    SsModel = get_model_class(model_type=ss_model_type)\n",
    "\n",
    "    ss_model = SsModel(\n",
    "        input_channels=input_channels,\n",
    "        output_channels=output_channels,\n",
    "        condition_size=condition_size,\n",
    "    )\n",
    "\n",
    "    pl_model = AudioSep(\n",
    "        ss_model=ss_model,\n",
    "        waveform_mixer=None,\n",
    "        query_encoder=query_encoder,\n",
    "        loss_function=None,\n",
    "        optimizer_type=None,\n",
    "        learning_rate=None,\n",
    "        lr_lambda_func=None,\n",
    "        # map_location=torch.device('cpu'),\n",
    "    )\n",
    "\n",
    "    return pl_model"
   ]
  },
  {
   "cell_type": "code",
   "execution_count": 7,
   "metadata": {},
   "outputs": [
    {
     "name": "stdout",
     "output_type": "stream",
     "text": [
      "-------  Start Evaluation  -------\n",
      "Evaluation on DCASE T9 synthetic validation set.\n"
     ]
    },
    {
     "name": "stderr",
     "output_type": "stream",
     "text": [
      "100%|██████████| 3000/3000 [03:41<00:00, 13.57it/s]"
     ]
    },
    {
     "name": "stdout",
     "output_type": "stream",
     "text": [
      "SDR: -5.291, SDRi: -5.326, SISDR: -3.947\n",
      "-------------------------  Done  ---------------------------\n"
     ]
    },
    {
     "name": "stderr",
     "output_type": "stream",
     "text": [
      "\n"
     ]
    }
   ],
   "source": [
    "def eval(evaluator, checkpoint_path = None, config_yaml='config/audiosep_onepeace.yaml', device = \"cuda\"):\n",
    "    configs = parse_yaml(config_yaml)\n",
    "\n",
    "    # Load model\n",
    "    # query_encoder = ONE_PEACE_Encoder(pretrained_path='/fs/nexus-scratch/vla/finetune_al_retrieval.pt')\n",
    "    query_encoder = encoder\n",
    "\n",
    "    # put ONE-PEACE model in eval model (probably unecessary)\n",
    "    query_encoder.model.model.eval()\n",
    "\n",
    "    pl_model = load_ss_model(\n",
    "        configs=configs,\n",
    "        checkpoint_path=checkpoint_path,\n",
    "        query_encoder=query_encoder\n",
    "    ).to(device)\n",
    "\n",
    "\n",
    "    print(f'-------  Start Evaluation  -------')\n",
    "\n",
    "    # evaluation \n",
    "    SISDR, SDRi, SDR = evaluator(pl_model)\n",
    "    msg_clotho = \"SDR: {:.3f}, SDRi: {:.3f}, SISDR: {:.3f}\".format(SDR, SDRi, SISDR)\n",
    "    print(msg_clotho)\n",
    "\n",
    "    print('-------------------------  Done  ---------------------------')\n",
    "\n",
    "dcase_evaluator = DCASEEvaluator(\n",
    "    sampling_rate=16000,\n",
    "    eval_indexes='lass_synthetic_validation.csv',\n",
    "    audio_dir='lass_validation',\n",
    ")\n",
    "\n",
    "# checkpoint_path='audiosep_16k,baseline,step=200000.ckpt'\n",
    "checkpoint_path='/fs/nexus-scratch/vla/checkpoints/train/audiosep_onepeace,devices=1/step=1.ckpt'\n",
    "eval(dcase_evaluator,\n",
    "     checkpoint_path=checkpoint_path,\n",
    "     device = \"cuda\")"
   ]
  }
 ],
 "metadata": {
  "kernelspec": {
   "display_name": "LASS",
   "language": "python",
   "name": "lass"
  },
  "language_info": {
   "codemirror_mode": {
    "name": "ipython",
    "version": 3
   },
   "file_extension": ".py",
   "mimetype": "text/x-python",
   "name": "python",
   "nbconvert_exporter": "python",
   "pygments_lexer": "ipython3",
   "version": "3.9.0"
  }
 },
 "nbformat": 4,
 "nbformat_minor": 2
}
