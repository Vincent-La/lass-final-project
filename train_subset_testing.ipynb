{
 "cells": [
  {
   "cell_type": "code",
   "execution_count": 1,
   "metadata": {},
   "outputs": [],
   "source": [
    "%load_ext autoreload\n",
    "%autoreload 2"
   ]
  },
  {
   "cell_type": "code",
   "execution_count": 8,
   "metadata": {},
   "outputs": [],
   "source": [
    "from training_subset_analysis import TrainingSubsetAnalysis\n",
    "from models.audiosep import AudioSep\n",
    "import argparse\n",
    "import os\n",
    "from utils import parse_yaml, load_ss_model\n",
    "from scipy.signal import spectrogram\n",
    "\n",
    "\n",
    "def eval(evaluator,\n",
    "         encoder_checkpoint_path = None, \n",
    "         ssnet_checkpoint_path = None, \n",
    "         config_yaml=None, \n",
    "         device = \"cuda\",\n",
    "         encoder_type = None):\n",
    "\n",
    "    \n",
    "    assert encoder_type is not None, 'define encoder type'\n",
    "    \n",
    "    configs = parse_yaml(config_yaml)\n",
    "    \n",
    "    if encoder_type == 'ONE-PEACE':\n",
    "\n",
    "        from models.one_peace_encoder import ONE_PEACE_Encoder\n",
    "        # ONE_PEACE modelhub expects some paths to be relative to this dir\n",
    "        os.chdir('ONE-PEACE/')\n",
    "        # TODO:path in shared scratch dir for now..., move to class project dir whenever we get that\n",
    "        query_encoder = ONE_PEACE_Encoder(pretrained_path=encoder_checkpoint_path)\n",
    "        os.chdir('..')\n",
    "\n",
    "        # put ONE-PEACE model in eval model (probably unecessary)\n",
    "        query_encoder.model.model.eval()\n",
    "\n",
    "    elif encoder_type == 'CLAP':\n",
    "        from models.clap_encoder import CLAP_Encoder\n",
    "        query_encoder = CLAP_Encoder(pretrained_path=encoder_checkpoint_path).eval()\n",
    "\n",
    "    pl_model = load_ss_model(\n",
    "        configs=configs,\n",
    "        checkpoint_path=ssnet_checkpoint_path,\n",
    "        query_encoder=query_encoder\n",
    "    ).to(device)\n",
    "\n",
    "    return evaluator, pl_model\n",
    "\n",
    "    print(f'-------  Start Evaluation  -------')\n",
    "    df_results = evaluator(pl_model)\n",
    "    df_results.to_csv(f'{encoder_type}_training_subset.csv', index = None)\n",
    "    print('-------------------------  Done  ---------------------------')\n",
    "    # evaluation \n",
    "    \n",
    "\n",
    "    \n"
   ]
  },
  {
   "cell_type": "code",
   "execution_count": 9,
   "metadata": {},
   "outputs": [
    {
     "name": "stdout",
     "output_type": "stream",
     "text": [
      "Namespace(config_yaml='config/audiosep_base.yaml', encoder_checkpoint_path='./checkpoint/music_speech_audioset_epoch_15_esc_89.98.pt', ssnet_checkpoint_path='checkpoint/audiosep_baseline.ckpt', encoder_type='CLAP')\n"
     ]
    }
   ],
   "source": [
    "\n",
    "parser = argparse.ArgumentParser()\n",
    "parser.add_argument(\n",
    "    \"--config_yaml\",\n",
    "    type=str,\n",
    "    required=True,\n",
    "    help=\"Path of config file for AudioSep model\",\n",
    ")\n",
    "\n",
    "parser.add_argument(\n",
    "    \"--encoder_checkpoint_path\",\n",
    "    type=str,\n",
    "    required=True,\n",
    "    help=\"Path of pretrained checkpoint for QueryEncoder (ONE-PEACE/CLAP)\",\n",
    ")\n",
    "\n",
    "parser.add_argument(\n",
    "    '--ssnet_checkpoint_path',\n",
    "    type=str,\n",
    "    required=True,\n",
    "    help = \"Path of pretrained checkpoint for Seperation Network (ResUNet)\"\n",
    ")\n",
    "\n",
    "parser.add_argument(\n",
    "    '--encoder_type',\n",
    "    type=str,\n",
    "    required=True,\n",
    "    help= 'type of Query Encoder'\n",
    ")\n",
    "\n",
    "# cli = '--config_yaml config/audiosep_onepeace.yaml --encoder_checkpoint_path /fs/nexus-scratch/vla/finetune_al_retrieval.pt --ssnet_checkpoint_path /fs/nexus-scratch/vla/checkpoints/train/audiosep_onepeace,devices=1/step=140000.ckpt --encoder_type ONE-PEACE'\n",
    "cli = '--config_yaml config/audiosep_base.yaml --encoder_checkpoint_path ./checkpoint/music_speech_audioset_epoch_15_esc_89.98.pt  --ssnet_checkpoint_path checkpoint/audiosep_baseline.ckpt --encoder_type CLAP'\n",
    "\n",
    "\n",
    "args = parser.parse_args(cli.split())\n",
    "print(args)\n"
   ]
  },
  {
   "cell_type": "code",
   "execution_count": 10,
   "metadata": {},
   "outputs": [
    {
     "name": "stderr",
     "output_type": "stream",
     "text": [
      "Some weights of RobertaModel were not initialized from the model checkpoint at roberta-base and are newly initialized: ['roberta.pooler.dense.bias', 'roberta.pooler.dense.weight']\n",
      "You should probably TRAIN this model on a down-stream task to be able to use it for predictions and inference.\n",
      "/nfshomes/vla/lass-final-project/models/CLAP/open_clip/factory.py:55: FutureWarning: You are using `torch.load` with `weights_only=False` (the current default value), which uses the default pickle module implicitly. It is possible to construct malicious pickle data which will execute arbitrary code during unpickling (See https://github.com/pytorch/pytorch/blob/main/SECURITY.md#untrusted-models for more details). In a future release, the default value for `weights_only` will be flipped to `True`. This limits the functions that could be executed during unpickling. Arbitrary objects will no longer be allowed to be loaded via this mode unless they are explicitly allowlisted by the user via `torch.serialization.add_safe_globals`. We recommend you start setting `weights_only=True` for any use case where you don't have full control of the loaded file. Please open an issue on GitHub for any issues related to this experimental feature.\n",
      "  checkpoint = torch.load(checkpoint_path, map_location=map_location)\n",
      "/fs/nexus-scratch/vla/micromamba/envs/LASS/lib/python3.9/site-packages/lightning/pytorch/core/saving.py:195: Found keys that are not in the model state dict but in the checkpoint: ['query_encoder.model.text_branch.embeddings.position_ids']\n"
     ]
    }
   ],
   "source": [
    "\n",
    "# Run evaluation on training subset + pull out per-sample metrics and similarity scores\n",
    "dcase_evaluator = TrainingSubsetAnalysis(\n",
    "    sampling_rate=16000,\n",
    "    eval_indexes='lass_training_subset.csv',\n",
    "    audio_dir= '',        # use absolute paths in eval_indexes csv file\n",
    "    output_dir = None,    # set to none to avoid making audio .wav files\n",
    "    encoder_type=args.encoder_type,\n",
    "    config_yaml = args.config_yaml\n",
    ")\n",
    "\n",
    "evaluator, pl_model = eval(dcase_evaluator,\n",
    "                            encoder_checkpoint_path = args.encoder_checkpoint_path,\n",
    "                            ssnet_checkpoint_path = args.ssnet_checkpoint_path,\n",
    "                            config_yaml = args.config_yaml,\n",
    "                            device = \"cuda\",\n",
    "                            encoder_type=args.encoder_type)\n",
    "\n"
   ]
  },
  {
   "cell_type": "code",
   "execution_count": 11,
   "metadata": {},
   "outputs": [
    {
     "name": "stdout",
     "output_type": "stream",
     "text": [
      "Evaluating on lass_training_subset.csv\n"
     ]
    },
    {
     "name": "stderr",
     "output_type": "stream",
     "text": [
      "  2%|▏         | 999/50000 [00:50<41:30, 19.68it/s]\n"
     ]
    }
   ],
   "source": [
    "df_results = evaluator(pl_model)"
   ]
  },
  {
   "cell_type": "code",
   "execution_count": 12,
   "metadata": {},
   "outputs": [
    {
     "data": {
      "text/html": [
       "<div>\n",
       "<style scoped>\n",
       "    .dataframe tbody tr th:only-of-type {\n",
       "        vertical-align: middle;\n",
       "    }\n",
       "\n",
       "    .dataframe tbody tr th {\n",
       "        vertical-align: top;\n",
       "    }\n",
       "\n",
       "    .dataframe thead th {\n",
       "        text-align: right;\n",
       "    }\n",
       "</style>\n",
       "<table border=\"1\" class=\"dataframe\">\n",
       "  <thead>\n",
       "    <tr style=\"text-align: right;\">\n",
       "      <th></th>\n",
       "      <th>caption</th>\n",
       "      <th>source_path</th>\n",
       "      <th>noise_path</th>\n",
       "      <th>sisdr</th>\n",
       "      <th>sdri</th>\n",
       "      <th>sdr</th>\n",
       "    </tr>\n",
       "  </thead>\n",
       "  <tbody>\n",
       "    <tr>\n",
       "      <th>0</th>\n",
       "      <td>A trumpet sounds with bright, bold notes.</td>\n",
       "      <td>/fs/nexus-scratch/vla/FSD50K/FSD50K.eval_audio...</td>\n",
       "      <td>/fs/nexus-scratch/vla/FSD50K/FSD50K.dev_audio/...</td>\n",
       "      <td>-3.777549</td>\n",
       "      <td>-5.525764</td>\n",
       "      <td>1.474236</td>\n",
       "    </tr>\n",
       "    <tr>\n",
       "      <th>1</th>\n",
       "      <td>A printer operates with mechanical sounds.</td>\n",
       "      <td>/fs/nexus-scratch/vla/FSD50K/FSD50K.dev_audio/...</td>\n",
       "      <td>/fs/nexus-scratch/vla/Clotho/development/Glass...</td>\n",
       "      <td>22.576742</td>\n",
       "      <td>30.263355</td>\n",
       "      <td>22.263356</td>\n",
       "    </tr>\n",
       "    <tr>\n",
       "      <th>2</th>\n",
       "      <td>Breathing sounds are audible.</td>\n",
       "      <td>/fs/nexus-scratch/vla/FSD50K/FSD50K.dev_audio/...</td>\n",
       "      <td>/fs/nexus-scratch/vla/FSD50K/FSD50K.eval_audio...</td>\n",
       "      <td>14.866004</td>\n",
       "      <td>6.976233</td>\n",
       "      <td>14.976232</td>\n",
       "    </tr>\n",
       "    <tr>\n",
       "      <th>3</th>\n",
       "      <td>A single bell rings.</td>\n",
       "      <td>/fs/nexus-scratch/vla/FSD50K/FSD50K.dev_audio/...</td>\n",
       "      <td>/fs/nexus-scratch/vla/Clotho/development/20080...</td>\n",
       "      <td>22.267787</td>\n",
       "      <td>19.244170</td>\n",
       "      <td>22.244170</td>\n",
       "    </tr>\n",
       "    <tr>\n",
       "      <th>4</th>\n",
       "      <td>A man's singing voice resonates.</td>\n",
       "      <td>/fs/nexus-scratch/vla/FSD50K/FSD50K.dev_audio/...</td>\n",
       "      <td>/fs/nexus-scratch/vla/FSD50K/FSD50K.dev_audio/...</td>\n",
       "      <td>22.752757</td>\n",
       "      <td>12.771955</td>\n",
       "      <td>22.771955</td>\n",
       "    </tr>\n",
       "  </tbody>\n",
       "</table>\n",
       "</div>"
      ],
      "text/plain": [
       "                                      caption  \\\n",
       "0   A trumpet sounds with bright, bold notes.   \n",
       "1  A printer operates with mechanical sounds.   \n",
       "2               Breathing sounds are audible.   \n",
       "3                        A single bell rings.   \n",
       "4            A man's singing voice resonates.   \n",
       "\n",
       "                                         source_path  \\\n",
       "0  /fs/nexus-scratch/vla/FSD50K/FSD50K.eval_audio...   \n",
       "1  /fs/nexus-scratch/vla/FSD50K/FSD50K.dev_audio/...   \n",
       "2  /fs/nexus-scratch/vla/FSD50K/FSD50K.dev_audio/...   \n",
       "3  /fs/nexus-scratch/vla/FSD50K/FSD50K.dev_audio/...   \n",
       "4  /fs/nexus-scratch/vla/FSD50K/FSD50K.dev_audio/...   \n",
       "\n",
       "                                          noise_path      sisdr       sdri  \\\n",
       "0  /fs/nexus-scratch/vla/FSD50K/FSD50K.dev_audio/...  -3.777549  -5.525764   \n",
       "1  /fs/nexus-scratch/vla/Clotho/development/Glass...  22.576742  30.263355   \n",
       "2  /fs/nexus-scratch/vla/FSD50K/FSD50K.eval_audio...  14.866004   6.976233   \n",
       "3  /fs/nexus-scratch/vla/Clotho/development/20080...  22.267787  19.244170   \n",
       "4  /fs/nexus-scratch/vla/FSD50K/FSD50K.dev_audio/...  22.752757  12.771955   \n",
       "\n",
       "         sdr  \n",
       "0   1.474236  \n",
       "1  22.263356  \n",
       "2  14.976232  \n",
       "3  22.244170  \n",
       "4  22.771955  "
      ]
     },
     "execution_count": 12,
     "metadata": {},
     "output_type": "execute_result"
    }
   ],
   "source": [
    "df_results[:5]"
   ]
  },
  {
   "cell_type": "markdown",
   "metadata": {},
   "source": [
    "## CLAP BELOW"
   ]
  },
  {
   "cell_type": "code",
   "execution_count": 13,
   "metadata": {},
   "outputs": [
    {
     "data": {
      "text/plain": [
       "9.119818571870418"
      ]
     },
     "execution_count": 13,
     "metadata": {},
     "output_type": "execute_result"
    }
   ],
   "source": [
    "df_results.loc[:, 'sisdr'].mean()"
   ]
  },
  {
   "cell_type": "code",
   "execution_count": 14,
   "metadata": {},
   "outputs": [
    {
     "data": {
      "text/plain": [
       "10.837878851696653"
      ]
     },
     "execution_count": 14,
     "metadata": {},
     "output_type": "execute_result"
    }
   ],
   "source": [
    "df_results.loc[:, 'sdri'].mean()"
   ]
  },
  {
   "cell_type": "code",
   "execution_count": 15,
   "metadata": {},
   "outputs": [
    {
     "data": {
      "text/plain": [
       "10.498848509130836"
      ]
     },
     "execution_count": 15,
     "metadata": {},
     "output_type": "execute_result"
    }
   ],
   "source": [
    "df_results.loc[:, 'sdr'].mean()"
   ]
  },
  {
   "cell_type": "markdown",
   "metadata": {},
   "source": [
    "## ONE-PEACE below"
   ]
  },
  {
   "cell_type": "code",
   "execution_count": 7,
   "metadata": {},
   "outputs": [
    {
     "data": {
      "text/plain": [
       "9.728438988414236"
      ]
     },
     "execution_count": 7,
     "metadata": {},
     "output_type": "execute_result"
    }
   ],
   "source": [
    "df_results.loc[:, 'sisdr'].mean()"
   ]
  },
  {
   "cell_type": "code",
   "execution_count": 8,
   "metadata": {},
   "outputs": [
    {
     "data": {
      "text/plain": [
       "10.888474036001798"
      ]
     },
     "execution_count": 8,
     "metadata": {},
     "output_type": "execute_result"
    }
   ],
   "source": [
    "df_results.loc[:, 'sdri'].mean()"
   ]
  },
  {
   "cell_type": "code",
   "execution_count": 9,
   "metadata": {},
   "outputs": [
    {
     "data": {
      "text/plain": [
       "10.54944369343598"
      ]
     },
     "execution_count": 9,
     "metadata": {},
     "output_type": "execute_result"
    }
   ],
   "source": [
    "df_results.loc[:, 'sdr'].mean()"
   ]
  }
 ],
 "metadata": {
  "kernelspec": {
   "display_name": "Python 3",
   "language": "python",
   "name": "python3"
  },
  "language_info": {
   "codemirror_mode": {
    "name": "ipython",
    "version": 3
   },
   "file_extension": ".py",
   "mimetype": "text/x-python",
   "name": "python",
   "nbconvert_exporter": "python",
   "pygments_lexer": "ipython3",
   "version": "3.9.0"
  }
 },
 "nbformat": 4,
 "nbformat_minor": 2
}
