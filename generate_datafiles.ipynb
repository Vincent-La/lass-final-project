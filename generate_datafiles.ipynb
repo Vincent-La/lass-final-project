{
 "cells": [
  {
   "cell_type": "code",
   "execution_count": 1,
   "metadata": {},
   "outputs": [],
   "source": [
    "import os\n",
    "import sys\n",
    "import json\n",
    "import pandas as pd\n",
    "\n",
    "import random\n",
    "random.seed(1234)"
   ]
  },
  {
   "cell_type": "code",
   "execution_count": 2,
   "metadata": {},
   "outputs": [],
   "source": [
    "clotho_dir = '/fs/nexus-scratch/vla/Clotho'\n",
    "fsd_dir = '/fs/nexus-scratch/vla/FSD50K'"
   ]
  },
  {
   "cell_type": "code",
   "execution_count": 3,
   "metadata": {},
   "outputs": [
    {
     "name": "stdout",
     "output_type": "stream",
     "text": [
      "\u001b[0m\u001b[01;32mclotho_captions_development.csv\u001b[0m*  \u001b[01;32mclotho_metadata_evaluation.csv\u001b[0m*  LICENSE\n",
      "\u001b[01;32mclotho_captions_evaluation.csv\u001b[0m*   \u001b[01;32mclotho_metadata_validation.csv\u001b[0m*  \u001b[34;42mvalidation\u001b[0m/\n",
      "\u001b[01;32mclotho_captions_validation.csv\u001b[0m*   \u001b[34;42mdevelopment\u001b[0m/\n",
      "\u001b[01;32mclotho_metadata_development.csv\u001b[0m*  \u001b[34;42mevaluation\u001b[0m/\n"
     ]
    }
   ],
   "source": [
    "%ls '/fs/nexus-scratch/vla/Clotho'"
   ]
  },
  {
   "cell_type": "code",
   "execution_count": 4,
   "metadata": {},
   "outputs": [
    {
     "name": "stdout",
     "output_type": "stream",
     "text": [
      "3839\n",
      "4884\n",
      "5929\n"
     ]
    }
   ],
   "source": [
    "# generate clotho datafile\n",
    "splits = ['development', 'validation', 'evaluation']\n",
    "gather = []\n",
    "\n",
    "for split in splits:\n",
    "\n",
    "    captions_path = os.path.join(clotho_dir, 'clotho_captions_' + split + '.csv') \n",
    "    captions_df = pd.read_csv(captions_path)\n",
    "\n",
    "    for row in captions_df.to_dict(orient='records'):\n",
    "        entry = {}\n",
    "        entry['wav'] = os.path.join(clotho_dir, split, row['file_name'])\n",
    "\n",
    "        # NOTE: clotho has 5 captions for each sound file, picking one at random for now but can also like 5x the dataset size technically\n",
    "        caption_number = random.randint(1, 5)\n",
    "        entry['caption'] = row[f'caption_{caption_number}']\n",
    "\n",
    "        gather.extend([entry])\n",
    "    \n",
    "    print(len(gather))\n"
   ]
  },
  {
   "cell_type": "code",
   "execution_count": 5,
   "metadata": {},
   "outputs": [
    {
     "data": {
      "text/plain": [
       "5929"
      ]
     },
     "execution_count": 5,
     "metadata": {},
     "output_type": "execute_result"
    }
   ],
   "source": [
    "len(gather)"
   ]
  },
  {
   "cell_type": "code",
   "execution_count": 6,
   "metadata": {},
   "outputs": [
    {
     "data": {
      "text/plain": [
       "{'wav': '/fs/nexus-scratch/vla/Clotho/evaluation/FR.BirdChatAmbience.26.wav',\n",
       " 'caption': 'Several birds are singing outside as people speak in the background.'}"
      ]
     },
     "execution_count": 6,
     "metadata": {},
     "output_type": "execute_result"
    }
   ],
   "source": [
    "gather[-1]"
   ]
  },
  {
   "cell_type": "code",
   "execution_count": 7,
   "metadata": {},
   "outputs": [],
   "source": [
    "# write to json\n",
    "datafile = {}\n",
    "datafile['data'] = gather\n",
    "\n",
    "with open('clotho.json', 'w', encoding='utf-8') as f:\n",
    "    json.dump(datafile, f, ensure_ascii=False, indent=4)"
   ]
  },
  {
   "cell_type": "code",
   "execution_count": null,
   "metadata": {},
   "outputs": [],
   "source": [
    "# smaller sample set for testing\n",
    "datafile = {}\n",
    "datafile['data'] = gather[:100]\n",
    "\n",
    "with open('clotho_sample.json', 'w', encoding='utf-8') as f:\n",
    "    json.dump(datafile, f, ensure_ascii=False, indent=4)"
   ]
  },
  {
   "cell_type": "code",
   "execution_count": 16,
   "metadata": {},
   "outputs": [
    {
     "name": "stdout",
     "output_type": "stream",
     "text": [
      "\u001b[0m\u001b[01;34mFSD50K.dev_audio\u001b[0m/             \u001b[01;34mFSD50K.eval_audio\u001b[0m/             \u001b[01;34mFSD50K.metadata\u001b[0m/\n",
      "fsd50k_dev_auto_caption.json  fsd50k_eval_auto_caption.json  links.txt\n",
      "\u001b[01;34mFSD50K.doc\u001b[0m/                   \u001b[01;34mFSD50K.ground_truth\u001b[0m/\n"
     ]
    }
   ],
   "source": [
    "%ls '/fs/nexus-scratch/vla/FSD50K'"
   ]
  },
  {
   "cell_type": "code",
   "execution_count": 31,
   "metadata": {},
   "outputs": [
    {
     "name": "stdout",
     "output_type": "stream",
     "text": [
      "/fs/nexus-scratch/vla/FSD50K/FSD50K.dev_audio\n",
      "/fs/nexus-scratch/vla/FSD50K/FSD50K.eval_audio\n"
     ]
    }
   ],
   "source": [
    "# generate FSD50K datafile\n",
    "splits = ['dev', 'eval']\n",
    "\n",
    "gather = []\n",
    "for split in splits:\n",
    "\n",
    "    audio_dir = os.path.join(fsd_dir, 'FSD50K.' + split + '_audio')\n",
    "    print(audio_dir)\n",
    "    captions_path = os.path.join(fsd_dir, 'fsd50k_' + split + '_auto_caption.json') \n",
    "    # captions_df = pd.read_csv(captions_path)\n",
    "\n",
    "    with open(captions_path, 'r') as f:\n",
    "        captions_json = json.load(f)\n",
    "    \n",
    "    for entry in captions_json['data']:\n",
    "        entry['wav'] = os.path.join(audio_dir, entry['wav'])\n",
    "\n",
    "    gather.extend(captions_json['data'])\n"
   ]
  },
  {
   "cell_type": "code",
   "execution_count": null,
   "metadata": {},
   "outputs": [
    {
     "data": {
      "text/plain": [
       "51197"
      ]
     },
     "execution_count": 32,
     "metadata": {},
     "output_type": "execute_result"
    }
   ],
   "source": [
    "# size of FSD50K\n",
    "len(gather)"
   ]
  },
  {
   "cell_type": "code",
   "execution_count": 47,
   "metadata": {},
   "outputs": [
    {
     "data": {
      "text/plain": [
       "{'wav': '/fs/nexus-scratch/vla/FSD50K/FSD50K.dev_audio/10000.wav',\n",
       " 'caption': 'The act of breathing creates audible respiratory sounds.'}"
      ]
     },
     "execution_count": 47,
     "metadata": {},
     "output_type": "execute_result"
    }
   ],
   "source": [
    "gather[0]"
   ]
  },
  {
   "cell_type": "code",
   "execution_count": null,
   "metadata": {},
   "outputs": [],
   "source": [
    "# write to json\n",
    "datafile = {}\n",
    "datafile['data'] = gather\n",
    "\n",
    "with open('FSD50K.json', 'w', encoding='utf-8') as f:\n",
    "    json.dump(datafile, f, ensure_ascii=False, indent=4)"
   ]
  }
 ],
 "metadata": {
  "kernelspec": {
   "display_name": "LASS",
   "language": "python",
   "name": "lass"
  },
  "language_info": {
   "codemirror_mode": {
    "name": "ipython",
    "version": 3
   },
   "file_extension": ".py",
   "mimetype": "text/x-python",
   "name": "python",
   "nbconvert_exporter": "python",
   "pygments_lexer": "ipython3",
   "version": "3.9.0"
  }
 },
 "nbformat": 4,
 "nbformat_minor": 2
}
