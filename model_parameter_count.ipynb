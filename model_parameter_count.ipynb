{
 "cells": [
  {
   "cell_type": "code",
   "execution_count": 1,
   "metadata": {},
   "outputs": [
    {
     "name": "stderr",
     "output_type": "stream",
     "text": [
      "/fs/nexus-scratch/vla/micromamba/envs/LASS/lib/python3.9/site-packages/tqdm/auto.py:21: TqdmWarning: IProgress not found. Please update jupyter and ipywidgets. See https://ipywidgets.readthedocs.io/en/stable/user_install.html\n",
      "  from .autonotebook import tqdm as notebook_tqdm\n",
      "/fs/nexus-scratch/vla/micromamba/envs/LASS/lib/python3.9/site-packages/torch/functional.py:534: UserWarning: torch.meshgrid: in an upcoming release, it will be required to pass the indexing argument. (Triggered internally at ../aten/src/ATen/native/TensorShape.cpp:3595.)\n",
      "  return _VF.meshgrid(tensors, **kwargs)  # type: ignore[attr-defined]\n",
      "Some weights of RobertaModel were not initialized from the model checkpoint at roberta-base and are newly initialized: ['roberta.pooler.dense.bias', 'roberta.pooler.dense.weight']\n",
      "You should probably TRAIN this model on a down-stream task to be able to use it for predictions and inference.\n",
      "/nfshomes/vla/lass-final-project/models/CLAP/open_clip/factory.py:55: FutureWarning: You are using `torch.load` with `weights_only=False` (the current default value), which uses the default pickle module implicitly. It is possible to construct malicious pickle data which will execute arbitrary code during unpickling (See https://github.com/pytorch/pytorch/blob/main/SECURITY.md#untrusted-models for more details). In a future release, the default value for `weights_only` will be flipped to `True`. This limits the functions that could be executed during unpickling. Arbitrary objects will no longer be allowed to be loaded via this mode unless they are explicitly allowlisted by the user via `torch.serialization.add_safe_globals`. We recommend you start setting `weights_only=True` for any use case where you don't have full control of the loaded file. Please open an issue on GitHub for any issues related to this experimental feature.\n",
      "  checkpoint = torch.load(checkpoint_path, map_location=map_location)\n"
     ]
    }
   ],
   "source": [
    "from dcase_evaluator_analysis import DCASEEvaluatorAnalysis\n",
    "from models.audiosep import AudioSep\n",
    "# from models.one_peace_encoder import ONE_PEACE_Encoder\n",
    "from models.clap_encoder import CLAP_Encoder\n",
    "from models.one_peace_encoder import ONE_PEACE_Encoder\n",
    "\n",
    "import os\n",
    "from utils import parse_yaml, load_ss_model\n",
    "import pandas as pd\n",
    "import matplotlib.pyplot as plt\n",
    "import numpy as np\n",
    "import torch\n",
    "\n",
    "from pytorch_lightning.utilities.model_summary import ModelSummary"
   ]
  },
  {
   "cell_type": "code",
   "execution_count": 3,
   "metadata": {},
   "outputs": [
    {
     "data": {
      "text/plain": [
       "'cpu'"
      ]
     },
     "execution_count": 3,
     "metadata": {},
     "output_type": "execute_result"
    }
   ],
   "source": [
    "device = 'cuda' if torch.cuda.is_available() else 'cpu'\n",
    "device"
   ]
  },
  {
   "cell_type": "code",
   "execution_count": 6,
   "metadata": {},
   "outputs": [
    {
     "name": "stderr",
     "output_type": "stream",
     "text": [
      "Some weights of RobertaModel were not initialized from the model checkpoint at roberta-base and are newly initialized: ['roberta.pooler.dense.bias', 'roberta.pooler.dense.weight']\n",
      "You should probably TRAIN this model on a down-stream task to be able to use it for predictions and inference.\n",
      "/nfshomes/vla/lass-final-project/models/CLAP/open_clip/factory.py:55: FutureWarning: You are using `torch.load` with `weights_only=False` (the current default value), which uses the default pickle module implicitly. It is possible to construct malicious pickle data which will execute arbitrary code during unpickling (See https://github.com/pytorch/pytorch/blob/main/SECURITY.md#untrusted-models for more details). In a future release, the default value for `weights_only` will be flipped to `True`. This limits the functions that could be executed during unpickling. Arbitrary objects will no longer be allowed to be loaded via this mode unless they are explicitly allowlisted by the user via `torch.serialization.add_safe_globals`. We recommend you start setting `weights_only=True` for any use case where you don't have full control of the loaded file. Please open an issue on GitHub for any issues related to this experimental feature.\n",
      "  checkpoint = torch.load(checkpoint_path, map_location=map_location)\n",
      "/fs/nexus-scratch/vla/micromamba/envs/LASS/lib/python3.9/site-packages/lightning/pytorch/core/saving.py:195: Found keys that are not in the model state dict but in the checkpoint: ['query_encoder.model.text_branch.embeddings.position_ids']\n"
     ]
    }
   ],
   "source": [
    "# AudioSep-CLAP\n",
    "config_yaml = './config/audiosep_base.yaml'\n",
    "encoder_checkpoint_path = './checkpoint/music_speech_audioset_epoch_15_esc_89.98.pt'\n",
    "ssnet_checkpoint_path = './checkpoint/audiosep_baseline.ckpt'\n",
    "\n",
    "\n",
    "configs = parse_yaml(config_yaml)\n",
    "\n",
    "# Load model\n",
    "query_encoder = CLAP_Encoder(pretrained_path = encoder_checkpoint_path).eval()\n",
    "\n",
    "pl_model = load_ss_model(\n",
    "    configs=configs,\n",
    "    checkpoint_path=ssnet_checkpoint_path,\n",
    "    query_encoder=query_encoder\n",
    ").to(device)"
   ]
  },
  {
   "cell_type": "code",
   "execution_count": null,
   "metadata": {},
   "outputs": [
    {
     "data": {
      "text/plain": [
       "  | Name          | Type         | Params | Mode \n",
       "-------------------------------------------------------\n",
       "0 | ss_model      | ResUNet30    | 29.6 M | train\n",
       "1 | query_encoder | CLAP_Encoder | 199 M  | eval \n",
       "-------------------------------------------------------\n",
       "26.4 M    Trainable params\n",
       "202 M     Non-trainable params\n",
       "229 M     Total params\n",
       "916.637   Total estimated model params size (MB)\n",
       "156       Modules in train mode\n",
       "555       Modules in eval mode"
      ]
     },
     "execution_count": 7,
     "metadata": {},
     "output_type": "execute_result"
    }
   ],
   "source": [
    "# AudioSep-CLAP param count\n",
    "ModelSummary(pl_model)"
   ]
  },
  {
   "cell_type": "code",
   "execution_count": 4,
   "metadata": {},
   "outputs": [
    {
     "name": "stderr",
     "output_type": "stream",
     "text": [
      "/fs/nexus-scratch/vla/micromamba/envs/LASS/lib/python3.9/site-packages/fairseq/checkpoint_utils.py:317: FutureWarning: You are using `torch.load` with `weights_only=False` (the current default value), which uses the default pickle module implicitly. It is possible to construct malicious pickle data which will execute arbitrary code during unpickling (See https://github.com/pytorch/pytorch/blob/main/SECURITY.md#untrusted-models for more details). In a future release, the default value for `weights_only` will be flipped to `True`. This limits the functions that could be executed during unpickling. Arbitrary objects will no longer be allowed to be loaded via this mode unless they are explicitly allowlisted by the user via `torch.serialization.add_safe_globals`. We recommend you start setting `weights_only=True` for any use case where you don't have full control of the loaded file. Please open an issue on GitHub for any issues related to this experimental feature.\n",
      "  state = torch.load(f, map_location=torch.device(\"cpu\"))\n"
     ]
    }
   ],
   "source": [
    "# AudioSep-ONE-PEACE\n",
    "config_yaml = './config/audiosep_onepeace.yaml'\n",
    "encoder_checkpoint_path = '/fs/nexus-scratch/vla/finetune_al_retrieval.pt'\n",
    "ssnet_checkpoint_path = '/fs/nexus-scratch/vla/checkpoints/train/audiosep_onepeace,devices=1/step=140000.ckpt'\n",
    "\n",
    "\n",
    "configs = parse_yaml(config_yaml)\n",
    "\n",
    "# Load model\n",
    "os.chdir('ONE-PEACE/')\n",
    "query_encoder = ONE_PEACE_Encoder(pretrained_path = encoder_checkpoint_path)\n",
    "query_encoder.model.model.eval()\n",
    "os.chdir('..')\n",
    "\n",
    "pl_model = load_ss_model(\n",
    "    configs=configs,\n",
    "    checkpoint_path=ssnet_checkpoint_path,\n",
    "    query_encoder=query_encoder\n",
    ").to(device)"
   ]
  },
  {
   "cell_type": "code",
   "execution_count": 5,
   "metadata": {},
   "outputs": [
    {
     "data": {
      "text/plain": [
       "  | Name          | Type              | Params | Mode \n",
       "------------------------------------------------------------\n",
       "0 | ss_model      | ResUNet30         | 39.7 M | train\n",
       "1 | query_encoder | ONE_PEACE_Encoder | 0      | train\n",
       "------------------------------------------------------------\n",
       "36.5 M    Trainable params\n",
       "3.1 M     Non-trainable params\n",
       "39.7 M    Total params\n",
       "158.749   Total estimated model params size (MB)\n",
       "157       Modules in train mode\n",
       "0         Modules in eval mode"
      ]
     },
     "execution_count": 5,
     "metadata": {},
     "output_type": "execute_result"
    }
   ],
   "source": [
    "# AudioSep-ONE-PEACE param count\n",
    "ModelSummary(pl_model)"
   ]
  },
  {
   "cell_type": "code",
   "execution_count": null,
   "metadata": {},
   "outputs": [
    {
     "data": {
      "text/plain": [
       "2.745970785"
      ]
     },
     "execution_count": 11,
     "metadata": {},
     "output_type": "execute_result"
    }
   ],
   "source": [
    "# ONE-PEACE encoder param count (in B)\n",
    "sum(p.numel() for p in query_encoder.model.model.parameters()) / 1e9"
   ]
  }
 ],
 "metadata": {
  "kernelspec": {
   "display_name": "Python 3",
   "language": "python",
   "name": "python3"
  },
  "language_info": {
   "codemirror_mode": {
    "name": "ipython",
    "version": 3
   },
   "file_extension": ".py",
   "mimetype": "text/x-python",
   "name": "python",
   "nbconvert_exporter": "python",
   "pygments_lexer": "ipython3",
   "version": "3.9.0"
  }
 },
 "nbformat": 4,
 "nbformat_minor": 2
}
