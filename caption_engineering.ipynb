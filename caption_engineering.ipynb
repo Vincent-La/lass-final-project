{
 "cells": [
  {
   "cell_type": "code",
   "execution_count": 1,
   "metadata": {},
   "outputs": [
    {
     "name": "stderr",
     "output_type": "stream",
     "text": [
      "/fs/nexus-scratch/vla/micromamba/envs/LASS/lib/python3.9/site-packages/tqdm/auto.py:21: TqdmWarning: IProgress not found. Please update jupyter and ipywidgets. See https://ipywidgets.readthedocs.io/en/stable/user_install.html\n",
      "  from .autonotebook import tqdm as notebook_tqdm\n",
      "/fs/nexus-scratch/vla/micromamba/envs/LASS/lib/python3.9/site-packages/torch/functional.py:534: UserWarning: torch.meshgrid: in an upcoming release, it will be required to pass the indexing argument. (Triggered internally at ../aten/src/ATen/native/TensorShape.cpp:3595.)\n",
      "  return _VF.meshgrid(tensors, **kwargs)  # type: ignore[attr-defined]\n",
      "Some weights of RobertaModel were not initialized from the model checkpoint at roberta-base and are newly initialized: ['roberta.pooler.dense.bias', 'roberta.pooler.dense.weight']\n",
      "You should probably TRAIN this model on a down-stream task to be able to use it for predictions and inference.\n",
      "/nfshomes/vla/lass-final-project/models/CLAP/open_clip/factory.py:55: FutureWarning: You are using `torch.load` with `weights_only=False` (the current default value), which uses the default pickle module implicitly. It is possible to construct malicious pickle data which will execute arbitrary code during unpickling (See https://github.com/pytorch/pytorch/blob/main/SECURITY.md#untrusted-models for more details). In a future release, the default value for `weights_only` will be flipped to `True`. This limits the functions that could be executed during unpickling. Arbitrary objects will no longer be allowed to be loaded via this mode unless they are explicitly allowlisted by the user via `torch.serialization.add_safe_globals`. We recommend you start setting `weights_only=True` for any use case where you don't have full control of the loaded file. Please open an issue on GitHub for any issues related to this experimental feature.\n",
      "  checkpoint = torch.load(checkpoint_path, map_location=map_location)\n"
     ]
    }
   ],
   "source": [
    "import numpy as np\n",
    "import pandas as pd\n",
    "import seaborn as sns\n",
    "import os\n",
    "import json\n",
    "import matplotlib.pyplot as plt\n",
    "from adjustText import adjust_text\n",
    "\n",
    "from scipy.signal import spectrogram\n",
    "import librosa\n",
    "from utils import parse_yaml, load_ss_model\n",
    "from dcase_evaluator_analysis import DCASEEvaluatorAnalysis\n",
    "import torch\n",
    "import gc"
   ]
  },
  {
   "cell_type": "code",
   "execution_count": 2,
   "metadata": {},
   "outputs": [],
   "source": [
    "def eval(evaluator,\n",
    "         encoder_checkpoint_path = None, \n",
    "         ssnet_checkpoint_path = None, \n",
    "         config_yaml=None, \n",
    "         device = \"cuda\",\n",
    "         encoder_type = None):\n",
    "\n",
    "    \n",
    "    assert encoder_type is not None, 'define encoder type'\n",
    "    \n",
    "    configs = parse_yaml(config_yaml)\n",
    "    \n",
    "    if encoder_type == 'ONE-PEACE':\n",
    "\n",
    "        from models.one_peace_encoder import ONE_PEACE_Encoder\n",
    "        # ONE_PEACE modelhub expects some paths to be relative to this dir\n",
    "        os.chdir('ONE-PEACE/')\n",
    "        # TODO:path in shared scratch dir for now..., move to class project dir whenever we get that\n",
    "        query_encoder = ONE_PEACE_Encoder(pretrained_path=encoder_checkpoint_path)\n",
    "        os.chdir('..')\n",
    "\n",
    "        # put ONE-PEACE model in eval model (probably unecessary)\n",
    "        query_encoder.model.model.eval()\n",
    "\n",
    "    elif encoder_type == 'CLAP':\n",
    "        from models.clap_encoder import CLAP_Encoder\n",
    "        query_encoder = CLAP_Encoder(pretrained_path=encoder_checkpoint_path).eval()\n",
    "\n",
    "    pl_model = load_ss_model(\n",
    "        configs=configs,\n",
    "        checkpoint_path=ssnet_checkpoint_path,\n",
    "        query_encoder=query_encoder\n",
    "    ).to(device)\n",
    "\n",
    "\n",
    "    print(f'-------  Start Evaluation  -------')\n",
    "    df_results = evaluator(pl_model)\n",
    "    df_results.to_csv(os.path.join(evaluator.output_dir,f'{encoder_type}_output.csv'), index = None)\n",
    "    print('-------------------------  Done  ---------------------------')\n",
    "\n",
    "    del pl_model\n",
    "    del evaluator\n",
    "    \n",
    "    torch.cuda.empty_cache()\n",
    "    gc.collect()\n",
    "\n",
    "    return df_results"
   ]
  },
  {
   "cell_type": "code",
   "execution_count": 3,
   "metadata": {},
   "outputs": [],
   "source": [
    "sampling_rate = 16000\n",
    "pd.set_option('display.max_colwidth', None)"
   ]
  },
  {
   "cell_type": "code",
   "execution_count": 4,
   "metadata": {},
   "outputs": [],
   "source": [
    "df_onepeace = pd.read_csv('results/one-peace_validation_results.csv')\n",
    "df_clap = pd.read_csv('results/baseline_validation_results.csv')"
   ]
  },
  {
   "cell_type": "markdown",
   "metadata": {},
   "source": [
    "#### Sword Swoosh/ Wave noise Example"
   ]
  },
  {
   "cell_type": "code",
   "execution_count": 5,
   "metadata": {},
   "outputs": [
    {
     "data": {
      "text/plain": [
       "caption                                                  The sword swooshes through the air as someone waves it, making a whooshing sound.\n",
       "source_path                                                                                         lass_validation/699930_10996917-hq.wav\n",
       "noise_path                                                                                          lass_validation/683018_10624050-hq.wav\n",
       "input_path            /fs/nexus-scratch/vla/lass_validation_baseline_output/('699930_10996917-hq.wav', '683018_10624050-hq.wav')_input.wav\n",
       "output_path          /fs/nexus-scratch/vla/lass_validation_baseline_output/('699930_10996917-hq.wav', '683018_10624050-hq.wav')_output.wav\n",
       "input_similarity                                                                                                                  0.390963\n",
       "output_similarity                                                                                                                 0.560391\n",
       "target_similarity                                                                                                                 0.378169\n",
       "sisdr                                                                                                                            28.560207\n",
       "sdri                                                                                                                             13.562865\n",
       "sdr                                                                                                                              28.562864\n",
       "delta_similarity                                                                                                                  0.169428\n",
       "Name: 285, dtype: object"
      ]
     },
     "execution_count": 5,
     "metadata": {},
     "output_type": "execute_result"
    }
   ],
   "source": [
    "clap_sample = df_clap.loc[285]\n",
    "clap_sample"
   ]
  },
  {
   "cell_type": "code",
   "execution_count": 6,
   "metadata": {},
   "outputs": [
    {
     "data": {
      "text/plain": [
       "caption                                                  The sword swooshes through the air as someone waves it, making a whooshing sound.\n",
       "source_path                                                                                         lass_validation/699930_10996917-hq.wav\n",
       "noise_path                                                                                          lass_validation/683018_10624050-hq.wav\n",
       "input_path            /fs/nexus-scratch/vla/lass_validation_onepeace_output/('699930_10996917-hq.wav', '683018_10624050-hq.wav')_input.wav\n",
       "output_path          /fs/nexus-scratch/vla/lass_validation_onepeace_output/('699930_10996917-hq.wav', '683018_10624050-hq.wav')_output.wav\n",
       "input_similarity                                                                                                                  0.163938\n",
       "output_similarity                                                                                                                 0.315517\n",
       "target_similarity                                                                                                                  0.38842\n",
       "sisdr                                                                                                                             -1.72399\n",
       "sdri                                                                                                                             -12.97988\n",
       "sdr                                                                                                                               2.020119\n",
       "delta_similarity                                                                                                                  0.151579\n",
       "Name: 285, dtype: object"
      ]
     },
     "execution_count": 6,
     "metadata": {},
     "output_type": "execute_result"
    }
   ],
   "source": [
    "onepeace_sample = df_onepeace.loc[285]\n",
    "onepeace_sample"
   ]
  },
  {
   "cell_type": "code",
   "execution_count": 7,
   "metadata": {},
   "outputs": [
    {
     "data": {
      "text/plain": [
       "'The sword swooshes through the air as someone waves it, making a whooshing sound.'"
      ]
     },
     "execution_count": 7,
     "metadata": {},
     "output_type": "execute_result"
    }
   ],
   "source": [
    "caption = onepeace_sample.caption\n",
    "caption"
   ]
  },
  {
   "cell_type": "code",
   "execution_count": 8,
   "metadata": {},
   "outputs": [
    {
     "data": {
      "text/html": [
       "<div>\n",
       "<style scoped>\n",
       "    .dataframe tbody tr th:only-of-type {\n",
       "        vertical-align: middle;\n",
       "    }\n",
       "\n",
       "    .dataframe tbody tr th {\n",
       "        vertical-align: top;\n",
       "    }\n",
       "\n",
       "    .dataframe thead th {\n",
       "        text-align: right;\n",
       "    }\n",
       "</style>\n",
       "<table border=\"1\" class=\"dataframe\">\n",
       "  <thead>\n",
       "    <tr style=\"text-align: right;\">\n",
       "      <th></th>\n",
       "      <th>source</th>\n",
       "      <th>noise</th>\n",
       "      <th>snr</th>\n",
       "      <th>caption</th>\n",
       "    </tr>\n",
       "  </thead>\n",
       "  <tbody>\n",
       "    <tr>\n",
       "      <th>0</th>\n",
       "      <td>692211_12333864-hq</td>\n",
       "      <td>701692_6014995-hq</td>\n",
       "      <td>10</td>\n",
       "      <td>Someone is playing a kind of musical instrument, which makes a buzzing sound.</td>\n",
       "    </tr>\n",
       "    <tr>\n",
       "      <th>1</th>\n",
       "      <td>692211_12333864-hq</td>\n",
       "      <td>708399_14710576-hq</td>\n",
       "      <td>1</td>\n",
       "      <td>Someone is playing the musical instrument, which produces buzzing sounds.</td>\n",
       "    </tr>\n",
       "  </tbody>\n",
       "</table>\n",
       "</div>"
      ],
      "text/plain": [
       "               source               noise   snr  \\\n",
       "0  692211_12333864-hq   701692_6014995-hq    10   \n",
       "1  692211_12333864-hq  708399_14710576-hq     1   \n",
       "\n",
       "                                                                         caption  \n",
       "0  Someone is playing a kind of musical instrument, which makes a buzzing sound.  \n",
       "1      Someone is playing the musical instrument, which produces buzzing sounds.  "
      ]
     },
     "execution_count": 8,
     "metadata": {},
     "output_type": "execute_result"
    }
   ],
   "source": [
    "df_synth_validation = pd.read_csv('lass_synthetic_validation.csv')\n",
    "df_synth_validation[:2]"
   ]
  },
  {
   "cell_type": "code",
   "execution_count": 9,
   "metadata": {},
   "outputs": [
    {
     "data": {
      "text/plain": [
       "Index(['source', ' noise', ' snr', ' caption'], dtype='object')"
      ]
     },
     "execution_count": 9,
     "metadata": {},
     "output_type": "execute_result"
    }
   ],
   "source": [
    "# oops theres a space\n",
    "df_synth_validation.columns"
   ]
  },
  {
   "cell_type": "code",
   "execution_count": 10,
   "metadata": {},
   "outputs": [
    {
     "data": {
      "text/html": [
       "<div>\n",
       "<style scoped>\n",
       "    .dataframe tbody tr th:only-of-type {\n",
       "        vertical-align: middle;\n",
       "    }\n",
       "\n",
       "    .dataframe tbody tr th {\n",
       "        vertical-align: top;\n",
       "    }\n",
       "\n",
       "    .dataframe thead th {\n",
       "        text-align: right;\n",
       "    }\n",
       "</style>\n",
       "<table border=\"1\" class=\"dataframe\">\n",
       "  <thead>\n",
       "    <tr style=\"text-align: right;\">\n",
       "      <th></th>\n",
       "      <th>source</th>\n",
       "      <th>noise</th>\n",
       "      <th>snr</th>\n",
       "      <th>caption</th>\n",
       "    </tr>\n",
       "  </thead>\n",
       "  <tbody>\n",
       "    <tr>\n",
       "      <th>285</th>\n",
       "      <td>699930_10996917-hq</td>\n",
       "      <td>683018_10624050-hq</td>\n",
       "      <td>15</td>\n",
       "      <td>The sword swooshes through the air as someone waves it, making a whooshing sound.</td>\n",
       "    </tr>\n",
       "  </tbody>\n",
       "</table>\n",
       "</div>"
      ],
      "text/plain": [
       "                 source               noise   snr  \\\n",
       "285  699930_10996917-hq  683018_10624050-hq    15   \n",
       "\n",
       "                                                                               caption  \n",
       "285  The sword swooshes through the air as someone waves it, making a whooshing sound.  "
      ]
     },
     "execution_count": 10,
     "metadata": {},
     "output_type": "execute_result"
    }
   ],
   "source": [
    "df_eval = df_synth_validation[df_synth_validation[' caption'] == caption]\n",
    "df_eval"
   ]
  },
  {
   "cell_type": "code",
   "execution_count": 11,
   "metadata": {},
   "outputs": [],
   "source": [
    "op_config_yaml = 'config/audiosep_onepeace.yaml'\n",
    "op_encoder_checkpoint_path = '/fs/nexus-scratch/vla/finetune_al_retrieval.pt'\n",
    "op_ssnet_checkpoint_path = '/fs/nexus-scratch/vla/checkpoints/train/audiosep_onepeace,devices=1/step=140000.ckpt'\n",
    "\n",
    "clap_config_yaml = 'config/audiosep_base.yaml'\n",
    "clap_encoder_checkpoint_path = './checkpoint/music_speech_audioset_epoch_15_esc_89.98.pt'\n",
    "clap_ssnet_checkpoint_path = 'checkpoint/audiosep_baseline.ckpt'"
   ]
  },
  {
   "cell_type": "code",
   "execution_count": null,
   "metadata": {},
   "outputs": [],
   "source": [
    "# slow and inefficient loop but im tired\n",
    "captions = ['The sword slashes through the air.',\n",
    "            'The sword makes a slashing sound.',\n",
    "            'The sword slices through the air.',\n",
    "            'The sword makes a slicing sound.',\n",
    "            'Sword waving around.',\n",
    "            'The waving sword swooshes around.',\n",
    "            'The waving sword waves around wavily',\n",
    "           ]\n",
    "\n",
    "for i,caption in enumerate(captions):\n",
    "\n",
    "    output_dir = f'sword_wave_{i}'\n",
    "    os.makedirs(output_dir, exist_ok=True)\n",
    "\n",
    "    df_eval.loc[:,' caption'] = caption\n",
    "    df_eval.to_csv('sword_wave_eval.csv', index = None)\n",
    "\n",
    "\n",
    "    # ONE-PEACE eval\n",
    "    dcase_evaluator = DCASEEvaluatorAnalysis(\n",
    "        sampling_rate=16000,\n",
    "        eval_indexes='sword_wave_eval.csv',\n",
    "        audio_dir='lass_validation',\n",
    "        output_dir = output_dir,\n",
    "        encoder_type = 'ONE-PEACE'\n",
    "    )\n",
    "\n",
    "    df_results = eval(dcase_evaluator,\n",
    "                    encoder_checkpoint_path = op_encoder_checkpoint_path,\n",
    "                    ssnet_checkpoint_path = op_ssnet_checkpoint_path,\n",
    "                    config_yaml = op_config_yaml,\n",
    "                    device = \"cuda\",\n",
    "                    encoder_type='ONE-PEACE'                  \n",
    "    )\n",
    "    torch.cuda.empty_cache()\n",
    "    gc.collect()\n",
    "\n",
    "    # CLAP eval\n",
    "    dcase_evaluator = DCASEEvaluatorAnalysis(\n",
    "        sampling_rate=16000,\n",
    "        eval_indexes='sword_wave_eval.csv',\n",
    "        audio_dir='lass_validation',\n",
    "        output_dir = output_dir,\n",
    "        encoder_type = 'CLAP'\n",
    "    )\n",
    "\n",
    "    df_results = eval(dcase_evaluator,\n",
    "                    encoder_checkpoint_path = clap_encoder_checkpoint_path,\n",
    "                    ssnet_checkpoint_path = clap_ssnet_checkpoint_path,\n",
    "                    config_yaml = clap_config_yaml,\n",
    "                    device = \"cuda\",\n",
    "                    encoder_type='CLAP'                  \n",
    "    )\n",
    "    torch.cuda.empty_cache()\n",
    "    gc.collect()\n",
    "    \n",
    "    with open(os.path.join(output_dir, 'caption.txt'), 'w') as f:\n",
    "        f.write(caption)\n",
    "        f.close()\n",
    "    \n"
   ]
  },
  {
   "cell_type": "code",
   "execution_count": 27,
   "metadata": {},
   "outputs": [],
   "source": [
    "# 0,2,6 + original\n",
    "\n",
    "df_clap = pd.DataFrame()\n",
    "df_op = pd.DataFrame()\n",
    "for i in [0,2,6]:\n",
    "    result = {}\n",
    "    output_dir = f'sword_wave_{i}'\n",
    "    clap_output = pd.read_csv(os.path.join(output_dir, 'CLAP_output.csv'))\n",
    "\n",
    "    df_clap = pd.concat([df_clap, clap_output], ignore_index=True)\n",
    "\n",
    "\n",
    "    op_output = pd.read_csv(os.path.join(output_dir, 'ONE-PEACE_output.csv'))\n",
    "    df_op = pd.concat([df_op, op_output], ignore_index=True)\n",
    "\n",
    " "
   ]
  },
  {
   "cell_type": "code",
   "execution_count": 30,
   "metadata": {},
   "outputs": [
    {
     "data": {
      "text/html": [
       "<div>\n",
       "<style scoped>\n",
       "    .dataframe tbody tr th:only-of-type {\n",
       "        vertical-align: middle;\n",
       "    }\n",
       "\n",
       "    .dataframe tbody tr th {\n",
       "        vertical-align: top;\n",
       "    }\n",
       "\n",
       "    .dataframe thead th {\n",
       "        text-align: right;\n",
       "    }\n",
       "</style>\n",
       "<table border=\"1\" class=\"dataframe\">\n",
       "  <thead>\n",
       "    <tr style=\"text-align: right;\">\n",
       "      <th></th>\n",
       "      <th>caption</th>\n",
       "      <th>input_similarity</th>\n",
       "      <th>output_similarity</th>\n",
       "      <th>target_similarity</th>\n",
       "      <th>sisdr</th>\n",
       "      <th>sdri</th>\n",
       "      <th>sdr</th>\n",
       "    </tr>\n",
       "  </thead>\n",
       "  <tbody>\n",
       "    <tr>\n",
       "      <th>0</th>\n",
       "      <td>The sword slashes through the air.</td>\n",
       "      <td>0.307211</td>\n",
       "      <td>0.313242</td>\n",
       "      <td>0.304953</td>\n",
       "      <td>28.022077</td>\n",
       "      <td>12.944131</td>\n",
       "      <td>27.944130</td>\n",
       "    </tr>\n",
       "    <tr>\n",
       "      <th>1</th>\n",
       "      <td>The sword slices through the air.</td>\n",
       "      <td>0.294347</td>\n",
       "      <td>0.290730</td>\n",
       "      <td>0.255574</td>\n",
       "      <td>28.422885</td>\n",
       "      <td>13.386739</td>\n",
       "      <td>28.386738</td>\n",
       "    </tr>\n",
       "    <tr>\n",
       "      <th>2</th>\n",
       "      <td>The waving sword waves around wavily</td>\n",
       "      <td>0.238028</td>\n",
       "      <td>0.218852</td>\n",
       "      <td>0.112427</td>\n",
       "      <td>5.634134</td>\n",
       "      <td>-8.318420</td>\n",
       "      <td>6.681579</td>\n",
       "    </tr>\n",
       "  </tbody>\n",
       "</table>\n",
       "</div>"
      ],
      "text/plain": [
       "                                caption  input_similarity  output_similarity  \\\n",
       "0    The sword slashes through the air.          0.307211           0.313242   \n",
       "1     The sword slices through the air.          0.294347           0.290730   \n",
       "2  The waving sword waves around wavily          0.238028           0.218852   \n",
       "\n",
       "   target_similarity      sisdr       sdri        sdr  \n",
       "0           0.304953  28.022077  12.944131  27.944130  \n",
       "1           0.255574  28.422885  13.386739  28.386738  \n",
       "2           0.112427   5.634134  -8.318420   6.681579  "
      ]
     },
     "execution_count": 30,
     "metadata": {},
     "output_type": "execute_result"
    }
   ],
   "source": [
    "df_clap[['caption', 'input_similarity', 'output_similarity', 'target_similarity', 'sisdr', 'sdri', 'sdr']]"
   ]
  },
  {
   "cell_type": "code",
   "execution_count": 32,
   "metadata": {},
   "outputs": [
    {
     "data": {
      "text/html": [
       "<div>\n",
       "<style scoped>\n",
       "    .dataframe tbody tr th:only-of-type {\n",
       "        vertical-align: middle;\n",
       "    }\n",
       "\n",
       "    .dataframe tbody tr th {\n",
       "        vertical-align: top;\n",
       "    }\n",
       "\n",
       "    .dataframe thead th {\n",
       "        text-align: right;\n",
       "    }\n",
       "</style>\n",
       "<table border=\"1\" class=\"dataframe\">\n",
       "  <thead>\n",
       "    <tr style=\"text-align: right;\">\n",
       "      <th></th>\n",
       "      <th>caption</th>\n",
       "      <th>input_similarity</th>\n",
       "      <th>output_similarity</th>\n",
       "      <th>target_similarity</th>\n",
       "      <th>sisdr</th>\n",
       "      <th>sdri</th>\n",
       "      <th>sdr</th>\n",
       "    </tr>\n",
       "  </thead>\n",
       "  <tbody>\n",
       "    <tr>\n",
       "      <th>0</th>\n",
       "      <td>The sword slashes through the air.</td>\n",
       "      <td>0.161676</td>\n",
       "      <td>0.414065</td>\n",
       "      <td>0.382297</td>\n",
       "      <td>0.859136</td>\n",
       "      <td>-11.784411</td>\n",
       "      <td>3.215588</td>\n",
       "    </tr>\n",
       "    <tr>\n",
       "      <th>1</th>\n",
       "      <td>The sword slices through the air.</td>\n",
       "      <td>0.242677</td>\n",
       "      <td>0.435143</td>\n",
       "      <td>0.456006</td>\n",
       "      <td>27.272389</td>\n",
       "      <td>12.102124</td>\n",
       "      <td>27.102123</td>\n",
       "    </tr>\n",
       "    <tr>\n",
       "      <th>2</th>\n",
       "      <td>The waving sword waves around wavily</td>\n",
       "      <td>0.158412</td>\n",
       "      <td>0.136753</td>\n",
       "      <td>0.243362</td>\n",
       "      <td>-39.099274</td>\n",
       "      <td>-15.075331</td>\n",
       "      <td>-0.075332</td>\n",
       "    </tr>\n",
       "  </tbody>\n",
       "</table>\n",
       "</div>"
      ],
      "text/plain": [
       "                                caption  input_similarity  output_similarity  \\\n",
       "0    The sword slashes through the air.          0.161676           0.414065   \n",
       "1     The sword slices through the air.          0.242677           0.435143   \n",
       "2  The waving sword waves around wavily          0.158412           0.136753   \n",
       "\n",
       "   target_similarity      sisdr       sdri        sdr  \n",
       "0           0.382297   0.859136 -11.784411   3.215588  \n",
       "1           0.456006  27.272389  12.102124  27.102123  \n",
       "2           0.243362 -39.099274 -15.075331  -0.075332  "
      ]
     },
     "execution_count": 32,
     "metadata": {},
     "output_type": "execute_result"
    }
   ],
   "source": [
    "df_op[['caption', 'input_similarity', 'output_similarity', 'target_similarity', 'sisdr', 'sdri', 'sdr']]"
   ]
  },
  {
   "cell_type": "code",
   "execution_count": 36,
   "metadata": {},
   "outputs": [],
   "source": [
    "df_clap.to_csv('results/clap_sword_wave.csv', index = None)"
   ]
  },
  {
   "cell_type": "code",
   "execution_count": 35,
   "metadata": {},
   "outputs": [],
   "source": [
    "df_op.to_csv('results/op_sword_wave.csv', index = None)"
   ]
  }
 ],
 "metadata": {
  "kernelspec": {
   "display_name": "Python 3",
   "language": "python",
   "name": "python3"
  },
  "language_info": {
   "codemirror_mode": {
    "name": "ipython",
    "version": 3
   },
   "file_extension": ".py",
   "mimetype": "text/x-python",
   "name": "python",
   "nbconvert_exporter": "python",
   "pygments_lexer": "ipython3",
   "version": "3.9.0"
  }
 },
 "nbformat": 4,
 "nbformat_minor": 2
}
