{
 "cells": [
  {
   "cell_type": "code",
   "execution_count": 1,
   "metadata": {},
   "outputs": [],
   "source": [
    "import os\n",
    "import sys\n",
    "import json\n",
    "import pandas as pd\n",
    "\n",
    "import random\n",
    "random.seed(1234)"
   ]
  },
  {
   "cell_type": "code",
   "execution_count": 2,
   "metadata": {},
   "outputs": [],
   "source": [
    "def get_two_unique_integers(start, end):\n",
    "    \n",
    "    first = random.randint(start, end)\n",
    "    second = random.randint(start, end)\n",
    "    \n",
    "    # Ensure uniqueness\n",
    "    while first == second:\n",
    "        second = random.randint(start, end)\n",
    "\n",
    "    return first, second"
   ]
  },
  {
   "cell_type": "code",
   "execution_count": 3,
   "metadata": {},
   "outputs": [],
   "source": [
    "with open('datafiles/clotho.json') as f:\n",
    "    clotho_data = json.load(f)\n",
    "    clotho_data = clotho_data['data']"
   ]
  },
  {
   "cell_type": "code",
   "execution_count": 4,
   "metadata": {},
   "outputs": [
    {
     "data": {
      "text/plain": [
       "[{'wav': '/fs/nexus-scratch/vla/Clotho/development/Distorted AM Radio noise.wav',\n",
       "  'caption': 'The loud buzz of static constantly changes pitch and volume.'}]"
      ]
     },
     "execution_count": 4,
     "metadata": {},
     "output_type": "execute_result"
    }
   ],
   "source": [
    "clotho_data[:1]"
   ]
  },
  {
   "cell_type": "code",
   "execution_count": 5,
   "metadata": {},
   "outputs": [
    {
     "data": {
      "text/plain": [
       "5929"
      ]
     },
     "execution_count": 5,
     "metadata": {},
     "output_type": "execute_result"
    }
   ],
   "source": [
    "len(clotho_data)"
   ]
  },
  {
   "cell_type": "code",
   "execution_count": 6,
   "metadata": {},
   "outputs": [],
   "source": [
    "with open('datafiles/FSD50K.json') as f:\n",
    "    fsd_data = json.load(f)\n",
    "    fsd_data = fsd_data['data']"
   ]
  },
  {
   "cell_type": "code",
   "execution_count": 7,
   "metadata": {},
   "outputs": [
    {
     "data": {
      "text/plain": [
       "[{'wav': '/fs/nexus-scratch/vla/FSD50K/FSD50K.dev_audio/10000.wav',\n",
       "  'caption': 'The act of breathing creates audible respiratory sounds.'}]"
      ]
     },
     "execution_count": 7,
     "metadata": {},
     "output_type": "execute_result"
    }
   ],
   "source": [
    "fsd_data[:1]"
   ]
  },
  {
   "cell_type": "code",
   "execution_count": 8,
   "metadata": {},
   "outputs": [
    {
     "data": {
      "text/plain": [
       "51197"
      ]
     },
     "execution_count": 8,
     "metadata": {},
     "output_type": "execute_result"
    }
   ],
   "source": [
    "len(fsd_data)"
   ]
  },
  {
   "cell_type": "code",
   "execution_count": 9,
   "metadata": {},
   "outputs": [
    {
     "data": {
      "text/plain": [
       "57126"
      ]
     },
     "execution_count": 9,
     "metadata": {},
     "output_type": "execute_result"
    }
   ],
   "source": [
    "all_data = clotho_data + fsd_data\n",
    "len(all_data)"
   ]
  },
  {
   "cell_type": "code",
   "execution_count": 11,
   "metadata": {},
   "outputs": [],
   "source": [
    "all_pairs = []\n",
    "num_samples = 50000\n",
    "gather = []"
   ]
  },
  {
   "cell_type": "code",
   "execution_count": 12,
   "metadata": {},
   "outputs": [],
   "source": [
    "for i in range(num_samples):\n",
    "    \n",
    "    entry = {}\n",
    "\n",
    "    # ensure unique mixtures\n",
    "    while True:\n",
    "        pair = get_two_unique_integers(0, len(all_data) - 1)\n",
    "        if pair not in all_pairs:\n",
    "            all_pairs.append(pair)\n",
    "            source_idx, noise_idx = pair\n",
    "            break\n",
    "\n",
    "    \n",
    "    entry['source'] = all_data[source_idx]['wav']\n",
    "    entry['noise'] = all_data[noise_idx]['wav']\n",
    "    # signal to noise ratio, sample from [-15,15]\n",
    "    entry['snr'] = random.randint(-15,15)\n",
    "    entry['caption'] = all_data[source_idx]['caption']\n",
    "\n",
    "    gather.append(entry)\n"
   ]
  },
  {
   "cell_type": "code",
   "execution_count": 13,
   "metadata": {},
   "outputs": [
    {
     "data": {
      "text/html": [
       "<div>\n",
       "<style scoped>\n",
       "    .dataframe tbody tr th:only-of-type {\n",
       "        vertical-align: middle;\n",
       "    }\n",
       "\n",
       "    .dataframe tbody tr th {\n",
       "        vertical-align: top;\n",
       "    }\n",
       "\n",
       "    .dataframe thead th {\n",
       "        text-align: right;\n",
       "    }\n",
       "</style>\n",
       "<table border=\"1\" class=\"dataframe\">\n",
       "  <thead>\n",
       "    <tr style=\"text-align: right;\">\n",
       "      <th></th>\n",
       "      <th>source</th>\n",
       "      <th>noise</th>\n",
       "      <th>snr</th>\n",
       "      <th>caption</th>\n",
       "    </tr>\n",
       "  </thead>\n",
       "  <tbody>\n",
       "    <tr>\n",
       "      <th>0</th>\n",
       "      <td>/fs/nexus-scratch/vla/FSD50K/FSD50K.eval_audio...</td>\n",
       "      <td>/fs/nexus-scratch/vla/FSD50K/FSD50K.dev_audio/...</td>\n",
       "      <td>-12</td>\n",
       "      <td>A trumpet sounds with bright, bold notes.</td>\n",
       "    </tr>\n",
       "    <tr>\n",
       "      <th>1</th>\n",
       "      <td>/fs/nexus-scratch/vla/Clotho/development/Glass...</td>\n",
       "      <td>/fs/nexus-scratch/vla/FSD50K/FSD50K.dev_audio/...</td>\n",
       "      <td>14</td>\n",
       "      <td>A knocking pattern of two knocks, two knocks, ...</td>\n",
       "    </tr>\n",
       "    <tr>\n",
       "      <th>2</th>\n",
       "      <td>/fs/nexus-scratch/vla/FSD50K/FSD50K.eval_audio...</td>\n",
       "      <td>/fs/nexus-scratch/vla/FSD50K/FSD50K.dev_audio/...</td>\n",
       "      <td>-14</td>\n",
       "      <td>A knock on a door demands attention.</td>\n",
       "    </tr>\n",
       "    <tr>\n",
       "      <th>3</th>\n",
       "      <td>/fs/nexus-scratch/vla/FSD50K/FSD50K.dev_audio/...</td>\n",
       "      <td>/fs/nexus-scratch/vla/FSD50K/FSD50K.dev_audio/...</td>\n",
       "      <td>-13</td>\n",
       "      <td>A man's singing voice resonates.</td>\n",
       "    </tr>\n",
       "    <tr>\n",
       "      <th>4</th>\n",
       "      <td>/fs/nexus-scratch/vla/FSD50K/FSD50K.dev_audio/...</td>\n",
       "      <td>/fs/nexus-scratch/vla/FSD50K/FSD50K.eval_audio...</td>\n",
       "      <td>-4</td>\n",
       "      <td>A hammer strikes a surface.</td>\n",
       "    </tr>\n",
       "    <tr>\n",
       "      <th>...</th>\n",
       "      <td>...</td>\n",
       "      <td>...</td>\n",
       "      <td>...</td>\n",
       "      <td>...</td>\n",
       "    </tr>\n",
       "    <tr>\n",
       "      <th>49995</th>\n",
       "      <td>/fs/nexus-scratch/vla/FSD50K/FSD50K.eval_audio...</td>\n",
       "      <td>/fs/nexus-scratch/vla/FSD50K/FSD50K.dev_audio/...</td>\n",
       "      <td>-2</td>\n",
       "      <td>A microwave beeps in the kitchen.</td>\n",
       "    </tr>\n",
       "    <tr>\n",
       "      <th>49996</th>\n",
       "      <td>/fs/nexus-scratch/vla/FSD50K/FSD50K.dev_audio/...</td>\n",
       "      <td>/fs/nexus-scratch/vla/FSD50K/FSD50K.dev_audio/...</td>\n",
       "      <td>-6</td>\n",
       "      <td>Melodious tunes come from a wind instrument.</td>\n",
       "    </tr>\n",
       "    <tr>\n",
       "      <th>49997</th>\n",
       "      <td>/fs/nexus-scratch/vla/Clotho/development/Extra...</td>\n",
       "      <td>/fs/nexus-scratch/vla/FSD50K/FSD50K.eval_audio...</td>\n",
       "      <td>-6</td>\n",
       "      <td>An engines lever is operational and an engine ...</td>\n",
       "    </tr>\n",
       "    <tr>\n",
       "      <th>49998</th>\n",
       "      <td>/fs/nexus-scratch/vla/Clotho/development/Flat ...</td>\n",
       "      <td>/fs/nexus-scratch/vla/FSD50K/FSD50K.eval_audio...</td>\n",
       "      <td>6</td>\n",
       "      <td>a door being unlocked, unlatched, squeaking op...</td>\n",
       "    </tr>\n",
       "    <tr>\n",
       "      <th>49999</th>\n",
       "      <td>/fs/nexus-scratch/vla/FSD50K/FSD50K.dev_audio/...</td>\n",
       "      <td>/fs/nexus-scratch/vla/FSD50K/FSD50K.eval_audio...</td>\n",
       "      <td>-11</td>\n",
       "      <td>A woodwind instrument plays melodiously.</td>\n",
       "    </tr>\n",
       "  </tbody>\n",
       "</table>\n",
       "<p>50000 rows × 4 columns</p>\n",
       "</div>"
      ],
      "text/plain": [
       "                                                  source  \\\n",
       "0      /fs/nexus-scratch/vla/FSD50K/FSD50K.eval_audio...   \n",
       "1      /fs/nexus-scratch/vla/Clotho/development/Glass...   \n",
       "2      /fs/nexus-scratch/vla/FSD50K/FSD50K.eval_audio...   \n",
       "3      /fs/nexus-scratch/vla/FSD50K/FSD50K.dev_audio/...   \n",
       "4      /fs/nexus-scratch/vla/FSD50K/FSD50K.dev_audio/...   \n",
       "...                                                  ...   \n",
       "49995  /fs/nexus-scratch/vla/FSD50K/FSD50K.eval_audio...   \n",
       "49996  /fs/nexus-scratch/vla/FSD50K/FSD50K.dev_audio/...   \n",
       "49997  /fs/nexus-scratch/vla/Clotho/development/Extra...   \n",
       "49998  /fs/nexus-scratch/vla/Clotho/development/Flat ...   \n",
       "49999  /fs/nexus-scratch/vla/FSD50K/FSD50K.dev_audio/...   \n",
       "\n",
       "                                                   noise  snr  \\\n",
       "0      /fs/nexus-scratch/vla/FSD50K/FSD50K.dev_audio/...  -12   \n",
       "1      /fs/nexus-scratch/vla/FSD50K/FSD50K.dev_audio/...   14   \n",
       "2      /fs/nexus-scratch/vla/FSD50K/FSD50K.dev_audio/...  -14   \n",
       "3      /fs/nexus-scratch/vla/FSD50K/FSD50K.dev_audio/...  -13   \n",
       "4      /fs/nexus-scratch/vla/FSD50K/FSD50K.eval_audio...   -4   \n",
       "...                                                  ...  ...   \n",
       "49995  /fs/nexus-scratch/vla/FSD50K/FSD50K.dev_audio/...   -2   \n",
       "49996  /fs/nexus-scratch/vla/FSD50K/FSD50K.dev_audio/...   -6   \n",
       "49997  /fs/nexus-scratch/vla/FSD50K/FSD50K.eval_audio...   -6   \n",
       "49998  /fs/nexus-scratch/vla/FSD50K/FSD50K.eval_audio...    6   \n",
       "49999  /fs/nexus-scratch/vla/FSD50K/FSD50K.eval_audio...  -11   \n",
       "\n",
       "                                                 caption  \n",
       "0              A trumpet sounds with bright, bold notes.  \n",
       "1      A knocking pattern of two knocks, two knocks, ...  \n",
       "2                   A knock on a door demands attention.  \n",
       "3                       A man's singing voice resonates.  \n",
       "4                            A hammer strikes a surface.  \n",
       "...                                                  ...  \n",
       "49995                  A microwave beeps in the kitchen.  \n",
       "49996       Melodious tunes come from a wind instrument.  \n",
       "49997  An engines lever is operational and an engine ...  \n",
       "49998  a door being unlocked, unlatched, squeaking op...  \n",
       "49999           A woodwind instrument plays melodiously.  \n",
       "\n",
       "[50000 rows x 4 columns]"
      ]
     },
     "execution_count": 13,
     "metadata": {},
     "output_type": "execute_result"
    }
   ],
   "source": [
    "df_training_subset = pd.DataFrame(gather)\n",
    "df_training_subset"
   ]
  },
  {
   "cell_type": "code",
   "execution_count": 14,
   "metadata": {},
   "outputs": [],
   "source": [
    "df_training_subset.to_csv('lass_training_subset.csv', index = None)"
   ]
  }
 ],
 "metadata": {
  "kernelspec": {
   "display_name": "Python 3",
   "language": "python",
   "name": "python3"
  },
  "language_info": {
   "codemirror_mode": {
    "name": "ipython",
    "version": 3
   },
   "file_extension": ".py",
   "mimetype": "text/x-python",
   "name": "python",
   "nbconvert_exporter": "python",
   "pygments_lexer": "ipython3",
   "version": "3.9.0"
  }
 },
 "nbformat": 4,
 "nbformat_minor": 2
}
