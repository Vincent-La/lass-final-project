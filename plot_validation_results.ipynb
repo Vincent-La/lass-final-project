{
 "cells": [
  {
   "cell_type": "code",
   "execution_count": 4,
   "metadata": {},
   "outputs": [],
   "source": [
    "%load_ext autoreload\n",
    "%autoreload 2"
   ]
  },
  {
   "cell_type": "code",
   "execution_count": 5,
   "metadata": {},
   "outputs": [],
   "source": [
    "import numpy as np\n",
    "import pandas as pd\n",
    "import seaborn as sns\n",
    "import os\n",
    "import json\n",
    "import matplotlib.pyplot as plt\n",
    "from adjustText import adjust_text\n",
    "\n",
    "from scipy.signal import spectrogram\n",
    "import librosa"
   ]
  },
  {
   "cell_type": "markdown",
   "metadata": {},
   "source": [
    "## SDR, SDRi, SI-SDR Metrics"
   ]
  },
  {
   "cell_type": "code",
   "execution_count": 6,
   "metadata": {},
   "outputs": [
    {
     "name": "stdout",
     "output_type": "stream",
     "text": [
      "1\n",
      "{'SDR': 5.708, 'SDRi': 5.673, 'SISDR': 3.862, 'Model': 'CLAP (Baseline)', 'step': 1}\n",
      "20000\n",
      "{'SDR': 5.708, 'SDRi': 5.673, 'SISDR': 3.862, 'Model': 'CLAP (Baseline)', 'step': 20000}\n",
      "40000\n",
      "{'SDR': 5.708, 'SDRi': 5.673, 'SISDR': 3.862, 'Model': 'CLAP (Baseline)', 'step': 40000}\n",
      "60000\n",
      "{'SDR': 5.708, 'SDRi': 5.673, 'SISDR': 3.862, 'Model': 'CLAP (Baseline)', 'step': 60000}\n",
      "80000\n",
      "{'SDR': 5.708, 'SDRi': 5.673, 'SISDR': 3.862, 'Model': 'CLAP (Baseline)', 'step': 80000}\n",
      "100000\n",
      "{'SDR': 5.708, 'SDRi': 5.673, 'SISDR': 3.862, 'Model': 'CLAP (Baseline)', 'step': 100000}\n",
      "120000\n",
      "{'SDR': 5.708, 'SDRi': 5.673, 'SISDR': 3.862, 'Model': 'CLAP (Baseline)', 'step': 120000}\n",
      "140000\n",
      "{'SDR': 5.708, 'SDRi': 5.673, 'SISDR': 3.862, 'Model': 'CLAP (Baseline)', 'step': 140000}\n",
      "160000\n",
      "{'SDR': 5.708, 'SDRi': 5.673, 'SISDR': 3.862, 'Model': 'CLAP (Baseline)', 'step': 160000}\n",
      "180000\n",
      "{'SDR': 5.708, 'SDRi': 5.673, 'SISDR': 3.862, 'Model': 'CLAP (Baseline)', 'step': 180000}\n",
      "200000\n",
      "{'SDR': 5.708, 'SDRi': 5.673, 'SISDR': 3.862, 'Model': 'CLAP (Baseline)', 'step': 200000}\n"
     ]
    }
   ],
   "source": [
    "# parse evaluation output file\n",
    "def parse_output(file_path):\n",
    "    with open(file_path, 'r') as f:\n",
    "        lines = f.readlines()\n",
    "\n",
    "        row_dict = {}\n",
    "        for metric in lines[-2].split(','):\n",
    "            split_line = metric.strip('\\n').split(':')\n",
    "            row_dict[split_line[0].strip()] = float(split_line[1].strip())\n",
    "\n",
    "    return row_dict\n",
    "\n",
    "gather = []\n",
    "steps = [1] + [i for i in range(1, 200001) if i % 20000 == 0]\n",
    "\n",
    "# Clap Baseline results\n",
    "row_dict = parse_output(os.path.join('results/clap_baseline/audiosep_baseline'))\n",
    "row_dict['Model'] = 'CLAP (Baseline)'\n",
    "\n",
    "# duplicate baseline results for each time step for plotting purposes\n",
    "for step in steps:\n",
    "    print(step)\n",
    "    row_dict['step'] = int(step)\n",
    "    print(row_dict)\n",
    "    gather.append(row_dict.copy())\n",
    "\n",
    "# gather"
   ]
  },
  {
   "cell_type": "code",
   "execution_count": 7,
   "metadata": {},
   "outputs": [],
   "source": [
    "# For each checkpoint, al_retrieval checkpoint run\n",
    "results_dir = './results/onepeace_al_retrieval_checkpoint'\n",
    "slurm_output_dir = os.path.join(results_dir, 'validation_outputs/slurm_files')\n",
    "\n",
    "for step in steps:\n",
    "    file_path = os.path.join(slurm_output_dir, f'step={step}.ckpt_log.txt')\n",
    "    row_dict = parse_output(file_path)\n",
    "    row_dict['step'] = int(step)\n",
    "    row_dict['Model'] = 'ONE-PEACE al_checkpoint'\n",
    "\n",
    "    gather.append(row_dict)\n"
   ]
  },
  {
   "cell_type": "code",
   "execution_count": 8,
   "metadata": {},
   "outputs": [],
   "source": [
    "# For each checkpoint, baseline checkpoint run\n",
    "results_dir = './results/onepeace_baseline_checkpoint'\n",
    "slurm_output_dir = os.path.join(results_dir, 'validation_outputs/slurm_files')\n",
    "\n",
    "for step in steps:\n",
    "    file_path = os.path.join(slurm_output_dir, f'step={step}.ckpt_log.txt')\n",
    "    row_dict = parse_output(file_path)\n",
    "    row_dict['step'] = int(step)\n",
    "    row_dict['Model'] = 'ONE-PEACE pretrained_checkpoint'\n",
    "\n",
    "    gather.append(row_dict)"
   ]
  },
  {
   "cell_type": "code",
   "execution_count": 9,
   "metadata": {},
   "outputs": [],
   "source": [
    "df = pd.DataFrame(gather)\n",
    "df.to_csv(os.path.join(results_dir, 'validation_results.csv'), index=False)"
   ]
  },
  {
   "cell_type": "code",
   "execution_count": 10,
   "metadata": {},
   "outputs": [],
   "source": [
    "df = pd.read_csv(os.path.join(results_dir, 'validation_results.csv'))"
   ]
  },
  {
   "cell_type": "code",
   "execution_count": 11,
   "metadata": {},
   "outputs": [
    {
     "data": {
      "text/plain": [
       "Index(['SDR', 'SDRi', 'SISDR', 'Model', 'step'], dtype='object')"
      ]
     },
     "execution_count": 11,
     "metadata": {},
     "output_type": "execute_result"
    }
   ],
   "source": [
    "df.columns"
   ]
  },
  {
   "cell_type": "code",
   "execution_count": 12,
   "metadata": {},
   "outputs": [],
   "source": [
    "def line_plot(df, y, ax, x = 'step', hue = 'Model'):\n",
    "\n",
    "    sns.lineplot(df, \n",
    "                 x=x, \n",
    "                 y = y,\n",
    "                 hue = hue,  \n",
    "                 marker='o',\n",
    "                 ax = ax)\n",
    "\n",
    "    texts = []\n",
    "    # label points on the plot\n",
    "    for x_val, y_val in zip(df[x], df[y]):\n",
    "        texts.append(ax.text(x = x_val, \n",
    "                              y = y_val, \n",
    "                              s = f'{y_val:.2f}', \n",
    "                              color = 'blue'))\n",
    "    \n",
    "    adjust_text(texts, only_move={'points':'y', 'texts':'y'}, arrowprops=dict(arrowstyle=\"->\", color='r', lw=0.5),\n",
    "                ax = ax)\n",
    "    "
   ]
  },
  {
   "cell_type": "code",
   "execution_count": 13,
   "metadata": {},
   "outputs": [
    {
     "data": {
      "image/png": "[encoded data removed]",
      "text/plain": [
       "<Figure size 2000x1000 with 3 Axes>"
      ]
     },
     "metadata": {},
     "output_type": "display_data"
    }
   ],
   "source": [
    "sns.set_theme()\n",
    "fig, axes = plt.subplots(1,3, figsize = (20,10))\n",
    "\n",
    "line_plot(df, 'SDR',   axes[0])\n",
    "line_plot(df, 'SDRi',  axes[1])\n",
    "line_plot(df, 'SISDR', axes[2])\n",
    "\n",
    "\n",
    "plt.suptitle('Validation Results\\n')\n",
    "plt.tight_layout()"
   ]
  },
  {
   "cell_type": "markdown",
   "metadata": {},
   "source": [
    "## Visualized Audio Spectrograms"
   ]
  },
  {
   "cell_type": "code",
   "execution_count": 14,
   "metadata": {},
   "outputs": [],
   "source": [
    "sampling_rate = 16000\n",
    "pd.set_option('display.max_colwidth', None)"
   ]
  },
  {
   "cell_type": "code",
   "execution_count": 15,
   "metadata": {},
   "outputs": [],
   "source": [
    "# Generate and plot the spectrogram\n",
    "def plot_spectrograms(mixture, source, sep_segment, sample_rate, name, output_dir, caption):\n",
    "\n",
    "    os.makedirs(output_dir, exist_ok=True)\n",
    "    FIG_SIZE = (6.4,4)\n",
    "    DPI = 600\n",
    "\n",
    "\n",
    "    # Load the audio file\n",
    "    # sample_rate, data = load_wav(file_path)\n",
    "    \n",
    "    # Generate spectrogram for mixture audio\n",
    "    frequencies, times, Sxx = spectrogram(mixture, fs=sample_rate)\n",
    "    \n",
    "    # Plot spectrogram\n",
    "    plt.figure(figsize=FIG_SIZE, dpi=DPI)\n",
    "    source_cmesh = plt.pcolormesh(times, frequencies, 10 * np.log10(Sxx), shading='gouraud', cmap = 'plasma')\n",
    "    \n",
    "    # grabbing colorbar bounds but removing it lmao\n",
    "    cbar = plt.colorbar(label='Power (dB)')\n",
    "    vmax = source_cmesh.colorbar.norm.vmax\n",
    "    vmin = source_cmesh.colorbar.norm.vmin\n",
    "    cbar.remove()\n",
    "\n",
    "    # plt.title('Mixture')\n",
    "    plt.xlabel('Time (s)')\n",
    "    plt.ylabel('Frequency (Hz)')\n",
    "    plt.tight_layout()\n",
    "\n",
    "    plt.savefig(os.path.join(output_dir, f'{name} mixture_spectrogram'))\n",
    "    plt.close()\n",
    "    # plt.show()\n",
    "\n",
    "\n",
    "    # Generate spectrogram for separated segment output\n",
    "    frequencies, times, Sxx = spectrogram(sep_segment, fs=sample_rate)\n",
    "    \n",
    "    # Plot spectrogram\n",
    "    plt.figure(figsize=FIG_SIZE, dpi=DPI)\n",
    "    plt.pcolormesh(times, frequencies, 10 * np.log10(Sxx), shading='gouraud', cmap = 'plasma',\n",
    "                   vmin=vmin, vmax=vmax)\n",
    "    \n",
    "    # plt.colorbar(label='Power (dB)')\n",
    "    # plt.title('Separation Result')\n",
    "    plt.xlabel('Time (s)')\n",
    "    plt.ylabel('Frequency (Hz)')\n",
    "    plt.tight_layout()\n",
    "    plt.savefig(os.path.join(output_dir, f'{name} sep_spectrogram'))\n",
    "    plt.close()\n",
    "    # plt.show()\n",
    "\n",
    "\n",
    "    # Generate spectrogram for source (target) audio\n",
    "    frequencies, times, Sxx = spectrogram(source, fs=sample_rate)\n",
    "    \n",
    "    # sometimes there are time steps where this no sound for some timesteps in the target audio\n",
    "    # this leads to a nan power value so fill with vmin\n",
    "    power = 10 * np.log10(Sxx)\n",
    "    power = np.nan_to_num(power, nan = vmin)\n",
    "    # Plot spectrogram\n",
    "    plt.figure(figsize=FIG_SIZE, dpi = DPI)\n",
    "    plt.pcolormesh(times, frequencies, power, shading='gouraud', cmap = 'plasma',\n",
    "                   vmin=vmin, vmax=vmax)\n",
    "    \n",
    "    # plt.colorbar(label='Power (dB)')\n",
    "    # plt.title('Target')\n",
    "    plt.xlabel('Time (s)')\n",
    "    plt.ylabel('Frequency (Hz)')\n",
    "    plt.tight_layout()\n",
    "    plt.savefig(os.path.join(output_dir,f'{name} target_spectrogram'))\n",
    "    plt.close()\n",
    "    # plt.show()\n",
    "\n",
    "\n",
    "    with open(os.path.join(output_dir, 'caption.txt'), 'w') as f:\n",
    "        f.write(caption)\n",
    "        f.close()\n",
    "\n",
    "def make_spectrograms_for_sample(clap_sample, onepeace_sample, output_dir):\n",
    "    source_path = clap_sample.source_path\n",
    "    mixture_path = clap_sample.input_path\n",
    "    sep_path = clap_sample.output_path\n",
    "    caption = clap_sample.caption\n",
    "    mixture, fs = librosa.load(mixture_path, sr=sampling_rate, mono=True)\n",
    "    source, fs = librosa.load(source_path, sr=sampling_rate, mono=True)\n",
    "    sep_segment, fs = librosa.load(sep_path, sr=sampling_rate, mono=True)\n",
    "\n",
    "    plot_spectrograms(mixture, source, sep_segment, sampling_rate, 'clap', output_dir, caption)\n",
    "\n",
    "    source_path = onepeace_sample.source_path\n",
    "    mixture_path = onepeace_sample.input_path\n",
    "    sep_path = onepeace_sample.output_path\n",
    "    caption = onepeace_sample.caption\n",
    "    mixture, fs = librosa.load(mixture_path, sr=sampling_rate, mono=True)\n",
    "    source, fs = librosa.load(source_path, sr=sampling_rate, mono=True)\n",
    "    sep_segment, fs = librosa.load(sep_path, sr=sampling_rate, mono=True)\n",
    "    plot_spectrograms(mixture, source, sep_segment, sampling_rate, 'onepeace', output_dir, caption)\n",
    "\n",
    "    \n"
   ]
  },
  {
   "cell_type": "code",
   "execution_count": 16,
   "metadata": {},
   "outputs": [
    {
     "data": {
      "text/html": [
       "<div>\n",
       "<style scoped>\n",
       "    .dataframe tbody tr th:only-of-type {\n",
       "        vertical-align: middle;\n",
       "    }\n",
       "\n",
       "    .dataframe tbody tr th {\n",
       "        vertical-align: top;\n",
       "    }\n",
       "\n",
       "    .dataframe thead th {\n",
       "        text-align: right;\n",
       "    }\n",
       "</style>\n",
       "<table border=\"1\" class=\"dataframe\">\n",
       "  <thead>\n",
       "    <tr style=\"text-align: right;\">\n",
       "      <th></th>\n",
       "      <th>caption</th>\n",
       "      <th>source_path</th>\n",
       "      <th>noise_path</th>\n",
       "      <th>input_path</th>\n",
       "      <th>output_path</th>\n",
       "      <th>input_similarity</th>\n",
       "      <th>output_similarity</th>\n",
       "      <th>target_similarity</th>\n",
       "      <th>sisdr</th>\n",
       "      <th>sdri</th>\n",
       "      <th>sdr</th>\n",
       "      <th>delta_similarity</th>\n",
       "    </tr>\n",
       "  </thead>\n",
       "  <tbody>\n",
       "    <tr>\n",
       "      <th>0</th>\n",
       "      <td>Someone is playing a kind of musical instrument, which makes a buzzing sound.</td>\n",
       "      <td>lass_validation/692211_12333864-hq.wav</td>\n",
       "      <td>lass_validation/701692_6014995-hq.wav</td>\n",
       "      <td>/fs/nexus-scratch/vla/lass_validation_onepeace_output/('692211_12333864-hq.wav', '701692_6014995-hq.wav')_input.wav</td>\n",
       "      <td>/fs/nexus-scratch/vla/lass_validation_onepeace_output/('692211_12333864-hq.wav', '701692_6014995-hq.wav')_output.wav</td>\n",
       "      <td>0.401701</td>\n",
       "      <td>0.403737</td>\n",
       "      <td>0.470765</td>\n",
       "      <td>9.953128</td>\n",
       "      <td>0.024985</td>\n",
       "      <td>10.024985</td>\n",
       "      <td>0.002035</td>\n",
       "    </tr>\n",
       "    <tr>\n",
       "      <th>1</th>\n",
       "      <td>Someone is playing the musical instrument, which produces buzzing sounds.</td>\n",
       "      <td>lass_validation/692211_12333864-hq.wav</td>\n",
       "      <td>lass_validation/708399_14710576-hq.wav</td>\n",
       "      <td>/fs/nexus-scratch/vla/lass_validation_onepeace_output/('692211_12333864-hq.wav', '708399_14710576-hq.wav')_input.wav</td>\n",
       "      <td>/fs/nexus-scratch/vla/lass_validation_onepeace_output/('692211_12333864-hq.wav', '708399_14710576-hq.wav')_output.wav</td>\n",
       "      <td>0.306772</td>\n",
       "      <td>0.284680</td>\n",
       "      <td>0.452296</td>\n",
       "      <td>9.277602</td>\n",
       "      <td>8.761090</td>\n",
       "      <td>9.761090</td>\n",
       "      <td>-0.022092</td>\n",
       "    </tr>\n",
       "    <tr>\n",
       "      <th>2</th>\n",
       "      <td>The musical instrument is producing buzzing sounds.</td>\n",
       "      <td>lass_validation/692211_12333864-hq.wav</td>\n",
       "      <td>lass_validation/708360_14781196-hq.wav</td>\n",
       "      <td>/fs/nexus-scratch/vla/lass_validation_onepeace_output/('692211_12333864-hq.wav', '708360_14781196-hq.wav')_input.wav</td>\n",
       "      <td>/fs/nexus-scratch/vla/lass_validation_onepeace_output/('692211_12333864-hq.wav', '708360_14781196-hq.wav')_output.wav</td>\n",
       "      <td>0.293939</td>\n",
       "      <td>0.356307</td>\n",
       "      <td>0.487627</td>\n",
       "      <td>1.753260</td>\n",
       "      <td>16.971467</td>\n",
       "      <td>3.971467</td>\n",
       "      <td>0.062368</td>\n",
       "    </tr>\n",
       "  </tbody>\n",
       "</table>\n",
       "</div>"
      ],
      "text/plain": [
       "                                                                         caption  \\\n",
       "0  Someone is playing a kind of musical instrument, which makes a buzzing sound.   \n",
       "1      Someone is playing the musical instrument, which produces buzzing sounds.   \n",
       "2                            The musical instrument is producing buzzing sounds.   \n",
       "\n",
       "                              source_path  \\\n",
       "0  lass_validation/692211_12333864-hq.wav   \n",
       "1  lass_validation/692211_12333864-hq.wav   \n",
       "2  lass_validation/692211_12333864-hq.wav   \n",
       "\n",
       "                               noise_path  \\\n",
       "0   lass_validation/701692_6014995-hq.wav   \n",
       "1  lass_validation/708399_14710576-hq.wav   \n",
       "2  lass_validation/708360_14781196-hq.wav   \n",
       "\n",
       "                                                                                                             input_path  \\\n",
       "0   /fs/nexus-scratch/vla/lass_validation_onepeace_output/('692211_12333864-hq.wav', '701692_6014995-hq.wav')_input.wav   \n",
       "1  /fs/nexus-scratch/vla/lass_validation_onepeace_output/('692211_12333864-hq.wav', '708399_14710576-hq.wav')_input.wav   \n",
       "2  /fs/nexus-scratch/vla/lass_validation_onepeace_output/('692211_12333864-hq.wav', '708360_14781196-hq.wav')_input.wav   \n",
       "\n",
       "                                                                                                             output_path  \\\n",
       "0   /fs/nexus-scratch/vla/lass_validation_onepeace_output/('692211_12333864-hq.wav', '701692_6014995-hq.wav')_output.wav   \n",
       "1  /fs/nexus-scratch/vla/lass_validation_onepeace_output/('692211_12333864-hq.wav', '708399_14710576-hq.wav')_output.wav   \n",
       "2  /fs/nexus-scratch/vla/lass_validation_onepeace_output/('692211_12333864-hq.wav', '708360_14781196-hq.wav')_output.wav   \n",
       "\n",
       "   input_similarity  output_similarity  target_similarity     sisdr  \\\n",
       "0          0.401701           0.403737           0.470765  9.953128   \n",
       "1          0.306772           0.284680           0.452296  9.277602   \n",
       "2          0.293939           0.356307           0.487627  1.753260   \n",
       "\n",
       "        sdri        sdr  delta_similarity  \n",
       "0   0.024985  10.024985          0.002035  \n",
       "1   8.761090   9.761090         -0.022092  \n",
       "2  16.971467   3.971467          0.062368  "
      ]
     },
     "execution_count": 16,
     "metadata": {},
     "output_type": "execute_result"
    }
   ],
   "source": [
    "df_onepeace = pd.read_csv('results/one-peace_validation_results.csv')\n",
    "df_onepeace[:3]"
   ]
  },
  {
   "cell_type": "code",
   "execution_count": 17,
   "metadata": {},
   "outputs": [
    {
     "data": {
      "text/html": [
       "<div>\n",
       "<style scoped>\n",
       "    .dataframe tbody tr th:only-of-type {\n",
       "        vertical-align: middle;\n",
       "    }\n",
       "\n",
       "    .dataframe tbody tr th {\n",
       "        vertical-align: top;\n",
       "    }\n",
       "\n",
       "    .dataframe thead th {\n",
       "        text-align: right;\n",
       "    }\n",
       "</style>\n",
       "<table border=\"1\" class=\"dataframe\">\n",
       "  <thead>\n",
       "    <tr style=\"text-align: right;\">\n",
       "      <th></th>\n",
       "      <th>caption</th>\n",
       "      <th>source_path</th>\n",
       "      <th>noise_path</th>\n",
       "      <th>input_path</th>\n",
       "      <th>output_path</th>\n",
       "      <th>input_similarity</th>\n",
       "      <th>output_similarity</th>\n",
       "      <th>target_similarity</th>\n",
       "      <th>sisdr</th>\n",
       "      <th>sdri</th>\n",
       "      <th>sdr</th>\n",
       "      <th>delta_similarity</th>\n",
       "    </tr>\n",
       "  </thead>\n",
       "  <tbody>\n",
       "    <tr>\n",
       "      <th>0</th>\n",
       "      <td>Someone is playing a kind of musical instrument, which makes a buzzing sound.</td>\n",
       "      <td>lass_validation/692211_12333864-hq.wav</td>\n",
       "      <td>lass_validation/701692_6014995-hq.wav</td>\n",
       "      <td>/fs/nexus-scratch/vla/lass_validation_baseline_output/('692211_12333864-hq.wav', '701692_6014995-hq.wav')_input.wav</td>\n",
       "      <td>/fs/nexus-scratch/vla/lass_validation_baseline_output/('692211_12333864-hq.wav', '701692_6014995-hq.wav')_output.wav</td>\n",
       "      <td>0.081376</td>\n",
       "      <td>0.085678</td>\n",
       "      <td>0.099061</td>\n",
       "      <td>9.980114</td>\n",
       "      <td>0.076613</td>\n",
       "      <td>10.076612</td>\n",
       "      <td>0.004302</td>\n",
       "    </tr>\n",
       "    <tr>\n",
       "      <th>1</th>\n",
       "      <td>Someone is playing the musical instrument, which produces buzzing sounds.</td>\n",
       "      <td>lass_validation/692211_12333864-hq.wav</td>\n",
       "      <td>lass_validation/708399_14710576-hq.wav</td>\n",
       "      <td>/fs/nexus-scratch/vla/lass_validation_baseline_output/('692211_12333864-hq.wav', '708399_14710576-hq.wav')_input.wav</td>\n",
       "      <td>/fs/nexus-scratch/vla/lass_validation_baseline_output/('692211_12333864-hq.wav', '708399_14710576-hq.wav')_output.wav</td>\n",
       "      <td>0.201099</td>\n",
       "      <td>0.182382</td>\n",
       "      <td>0.136972</td>\n",
       "      <td>9.162392</td>\n",
       "      <td>8.639180</td>\n",
       "      <td>9.639180</td>\n",
       "      <td>-0.018717</td>\n",
       "    </tr>\n",
       "    <tr>\n",
       "      <th>2</th>\n",
       "      <td>The musical instrument is producing buzzing sounds.</td>\n",
       "      <td>lass_validation/692211_12333864-hq.wav</td>\n",
       "      <td>lass_validation/708360_14781196-hq.wav</td>\n",
       "      <td>/fs/nexus-scratch/vla/lass_validation_baseline_output/('692211_12333864-hq.wav', '708360_14781196-hq.wav')_input.wav</td>\n",
       "      <td>/fs/nexus-scratch/vla/lass_validation_baseline_output/('692211_12333864-hq.wav', '708360_14781196-hq.wav')_output.wav</td>\n",
       "      <td>0.238575</td>\n",
       "      <td>0.220378</td>\n",
       "      <td>0.192079</td>\n",
       "      <td>1.553409</td>\n",
       "      <td>16.836760</td>\n",
       "      <td>3.836760</td>\n",
       "      <td>-0.018197</td>\n",
       "    </tr>\n",
       "  </tbody>\n",
       "</table>\n",
       "</div>"
      ],
      "text/plain": [
       "                                                                         caption  \\\n",
       "0  Someone is playing a kind of musical instrument, which makes a buzzing sound.   \n",
       "1      Someone is playing the musical instrument, which produces buzzing sounds.   \n",
       "2                            The musical instrument is producing buzzing sounds.   \n",
       "\n",
       "                              source_path  \\\n",
       "0  lass_validation/692211_12333864-hq.wav   \n",
       "1  lass_validation/692211_12333864-hq.wav   \n",
       "2  lass_validation/692211_12333864-hq.wav   \n",
       "\n",
       "                               noise_path  \\\n",
       "0   lass_validation/701692_6014995-hq.wav   \n",
       "1  lass_validation/708399_14710576-hq.wav   \n",
       "2  lass_validation/708360_14781196-hq.wav   \n",
       "\n",
       "                                                                                                             input_path  \\\n",
       "0   /fs/nexus-scratch/vla/lass_validation_baseline_output/('692211_12333864-hq.wav', '701692_6014995-hq.wav')_input.wav   \n",
       "1  /fs/nexus-scratch/vla/lass_validation_baseline_output/('692211_12333864-hq.wav', '708399_14710576-hq.wav')_input.wav   \n",
       "2  /fs/nexus-scratch/vla/lass_validation_baseline_output/('692211_12333864-hq.wav', '708360_14781196-hq.wav')_input.wav   \n",
       "\n",
       "                                                                                                             output_path  \\\n",
       "0   /fs/nexus-scratch/vla/lass_validation_baseline_output/('692211_12333864-hq.wav', '701692_6014995-hq.wav')_output.wav   \n",
       "1  /fs/nexus-scratch/vla/lass_validation_baseline_output/('692211_12333864-hq.wav', '708399_14710576-hq.wav')_output.wav   \n",
       "2  /fs/nexus-scratch/vla/lass_validation_baseline_output/('692211_12333864-hq.wav', '708360_14781196-hq.wav')_output.wav   \n",
       "\n",
       "   input_similarity  output_similarity  target_similarity     sisdr  \\\n",
       "0          0.081376           0.085678           0.099061  9.980114   \n",
       "1          0.201099           0.182382           0.136972  9.162392   \n",
       "2          0.238575           0.220378           0.192079  1.553409   \n",
       "\n",
       "        sdri        sdr  delta_similarity  \n",
       "0   0.076613  10.076612          0.004302  \n",
       "1   8.639180   9.639180         -0.018717  \n",
       "2  16.836760   3.836760         -0.018197  "
      ]
     },
     "execution_count": 17,
     "metadata": {},
     "output_type": "execute_result"
    }
   ],
   "source": [
    "df_clap = pd.read_csv('results/baseline_validation_results.csv')\n",
    "df_clap[:3]"
   ]
  },
  {
   "cell_type": "markdown",
   "metadata": {},
   "source": [
    "## Best SDR"
   ]
  },
  {
   "cell_type": "code",
   "execution_count": 18,
   "metadata": {},
   "outputs": [
    {
     "data": {
      "text/plain": [
       "caption                                                                         The heart is beating forcefully, making a thumping sound.\n",
       "source_path                                                                                        lass_validation/688735_10403690-hq.wav\n",
       "noise_path                                                                                          lass_validation/687039_2448533-hq.wav\n",
       "input_path            /fs/nexus-scratch/vla/lass_validation_onepeace_output/('688735_10403690-hq.wav', '687039_2448533-hq.wav')_input.wav\n",
       "output_path          /fs/nexus-scratch/vla/lass_validation_onepeace_output/('688735_10403690-hq.wav', '687039_2448533-hq.wav')_output.wav\n",
       "input_similarity                                                                                                                 0.294499\n",
       "output_similarity                                                                                                                0.523779\n",
       "target_similarity                                                                                                                0.540364\n",
       "sisdr                                                                                                                           34.953394\n",
       "sdri                                                                                                                            32.872442\n",
       "sdr                                                                                                                             34.872441\n",
       "delta_similarity                                                                                                                  0.22928\n",
       "Name: 2717, dtype: object"
      ]
     },
     "execution_count": 18,
     "metadata": {},
     "output_type": "execute_result"
    }
   ],
   "source": [
    "# best onepeace sdr sample\n",
    "best_sdr = df_onepeace.sort_values(by = 'sdr', ascending=False).iloc[0]\n",
    "best_sdr"
   ]
  },
  {
   "cell_type": "code",
   "execution_count": 19,
   "metadata": {},
   "outputs": [
    {
     "data": {
      "text/plain": [
       "caption                                                                         The heart is beating forcefully, making a thumping sound.\n",
       "source_path                                                                                        lass_validation/688735_10403690-hq.wav\n",
       "noise_path                                                                                          lass_validation/687039_2448533-hq.wav\n",
       "input_path            /fs/nexus-scratch/vla/lass_validation_baseline_output/('688735_10403690-hq.wav', '687039_2448533-hq.wav')_input.wav\n",
       "output_path          /fs/nexus-scratch/vla/lass_validation_baseline_output/('688735_10403690-hq.wav', '687039_2448533-hq.wav')_output.wav\n",
       "input_similarity                                                                                                                 0.239523\n",
       "output_similarity                                                                                                                0.483984\n",
       "target_similarity                                                                                                                0.335951\n",
       "sisdr                                                                                                                           36.796613\n",
       "sdri                                                                                                                            34.795452\n",
       "sdr                                                                                                                             36.795452\n",
       "delta_similarity                                                                                                                 0.244461\n",
       "Name: 2717, dtype: object"
      ]
     },
     "execution_count": 19,
     "metadata": {},
     "output_type": "execute_result"
    }
   ],
   "source": [
    "clap_equiv = df_clap.loc[2717]\n",
    "clap_equiv"
   ]
  },
  {
   "cell_type": "code",
   "execution_count": 20,
   "metadata": {},
   "outputs": [
    {
     "name": "stderr",
     "output_type": "stream",
     "text": [
      "/tmp/ipykernel_2405437/211326714.py:17: RuntimeWarning: divide by zero encountered in log10\n",
      "  source_cmesh = plt.pcolormesh(times, frequencies, 10 * np.log10(Sxx), shading='gouraud', cmap = 'plasma')\n",
      "/tmp/ipykernel_2405437/211326714.py:58: RuntimeWarning: divide by zero encountered in log10\n",
      "  power = 10 * np.log10(Sxx)\n",
      "/fs/nexus-scratch/vla/micromamba/envs/LASS/lib/python3.9/site-packages/matplotlib/colors.py:744: RuntimeWarning: overflow encountered in multiply\n",
      "  xa *= self.N\n"
     ]
    }
   ],
   "source": [
    "output_dir = 'plots/onepeace_best_sdr'\n",
    "make_spectrograms_for_sample(clap_equiv, best_sdr, output_dir)"
   ]
  },
  {
   "cell_type": "code",
   "execution_count": 21,
   "metadata": {},
   "outputs": [
    {
     "data": {
      "text/plain": [
       "caption                                                                                              Someone's heart is beating violently.\n",
       "source_path                                                                                         lass_validation/688735_10403690-hq.wav\n",
       "noise_path                                                                                          lass_validation/701640_10586310-hq.wav\n",
       "input_path            /fs/nexus-scratch/vla/lass_validation_baseline_output/('688735_10403690-hq.wav', '701640_10586310-hq.wav')_input.wav\n",
       "output_path          /fs/nexus-scratch/vla/lass_validation_baseline_output/('688735_10403690-hq.wav', '701640_10586310-hq.wav')_output.wav\n",
       "input_similarity                                                                                                                  0.257285\n",
       "output_similarity                                                                                                                 0.483456\n",
       "target_similarity                                                                                                                 0.376133\n",
       "sisdr                                                                                                                            40.515914\n",
       "sdri                                                                                                                              32.51269\n",
       "sdr                                                                                                                              40.512689\n",
       "delta_similarity                                                                                                                  0.226171\n",
       "Name: 2715, dtype: object"
      ]
     },
     "execution_count": 21,
     "metadata": {},
     "output_type": "execute_result"
    }
   ],
   "source": [
    "# best clap sdr example\n",
    "best_sdr = df_clap.sort_values(by = 'sdr', ascending=False).iloc[0]\n",
    "best_sdr"
   ]
  },
  {
   "cell_type": "code",
   "execution_count": 22,
   "metadata": {},
   "outputs": [
    {
     "data": {
      "text/plain": [
       "caption                                                                                              Someone's heart is beating violently.\n",
       "source_path                                                                                         lass_validation/688735_10403690-hq.wav\n",
       "noise_path                                                                                          lass_validation/701640_10586310-hq.wav\n",
       "input_path            /fs/nexus-scratch/vla/lass_validation_onepeace_output/('688735_10403690-hq.wav', '701640_10586310-hq.wav')_input.wav\n",
       "output_path          /fs/nexus-scratch/vla/lass_validation_onepeace_output/('688735_10403690-hq.wav', '701640_10586310-hq.wav')_output.wav\n",
       "input_similarity                                                                                                                  0.335711\n",
       "output_similarity                                                                                                                  0.38555\n",
       "target_similarity                                                                                                                 0.504568\n",
       "sisdr                                                                                                                            23.690259\n",
       "sdri                                                                                                                             15.707761\n",
       "sdr                                                                                                                               23.70776\n",
       "delta_similarity                                                                                                                  0.049838\n",
       "Name: 2715, dtype: object"
      ]
     },
     "execution_count": 22,
     "metadata": {},
     "output_type": "execute_result"
    }
   ],
   "source": [
    "onepeace_equiv = df_onepeace.loc[2715]\n",
    "onepeace_equiv"
   ]
  },
  {
   "cell_type": "code",
   "execution_count": 23,
   "metadata": {},
   "outputs": [
    {
     "name": "stderr",
     "output_type": "stream",
     "text": [
      "/tmp/ipykernel_2405437/211326714.py:58: RuntimeWarning: divide by zero encountered in log10\n",
      "  power = 10 * np.log10(Sxx)\n"
     ]
    }
   ],
   "source": [
    "output_dir = 'plots/clap_best_sdr'\n",
    "make_spectrograms_for_sample(best_sdr, onepeace_equiv, output_dir)"
   ]
  },
  {
   "cell_type": "markdown",
   "metadata": {},
   "source": [
    "## Best SDRi"
   ]
  },
  {
   "cell_type": "code",
   "execution_count": 24,
   "metadata": {},
   "outputs": [
    {
     "data": {
      "text/plain": [
       "caption                                                                          Someone is shoveling something, making a clinking sound.\n",
       "source_path                                                                                        lass_validation/700237_10996917-hq.wav\n",
       "noise_path                                                                                          lass_validation/704937_5828667-hq.wav\n",
       "input_path            /fs/nexus-scratch/vla/lass_validation_onepeace_output/('700237_10996917-hq.wav', '704937_5828667-hq.wav')_input.wav\n",
       "output_path          /fs/nexus-scratch/vla/lass_validation_onepeace_output/('700237_10996917-hq.wav', '704937_5828667-hq.wav')_output.wav\n",
       "input_similarity                                                                                                                 0.334947\n",
       "output_similarity                                                                                                                 0.40852\n",
       "target_similarity                                                                                                                0.433386\n",
       "sisdr                                                                                                                           25.806684\n",
       "sdri                                                                                                                            37.802962\n",
       "sdr                                                                                                                              25.80296\n",
       "delta_similarity                                                                                                                 0.073573\n",
       "Name: 763, dtype: object"
      ]
     },
     "execution_count": 24,
     "metadata": {},
     "output_type": "execute_result"
    }
   ],
   "source": [
    "# best onepeace sdri example\n",
    "best_sdri = df_onepeace.sort_values(by = 'sdri', ascending=False).iloc[0]\n",
    "best_sdri"
   ]
  },
  {
   "cell_type": "code",
   "execution_count": 25,
   "metadata": {},
   "outputs": [
    {
     "data": {
      "text/plain": [
       "caption                                                                          Someone is shoveling something, making a clinking sound.\n",
       "source_path                                                                                        lass_validation/700237_10996917-hq.wav\n",
       "noise_path                                                                                          lass_validation/704937_5828667-hq.wav\n",
       "input_path            /fs/nexus-scratch/vla/lass_validation_baseline_output/('700237_10996917-hq.wav', '704937_5828667-hq.wav')_input.wav\n",
       "output_path          /fs/nexus-scratch/vla/lass_validation_baseline_output/('700237_10996917-hq.wav', '704937_5828667-hq.wav')_output.wav\n",
       "input_similarity                                                                                                                 0.308157\n",
       "output_similarity                                                                                                                0.307138\n",
       "target_similarity                                                                                                                0.212596\n",
       "sisdr                                                                                                                           11.446564\n",
       "sdri                                                                                                                            23.464828\n",
       "sdr                                                                                                                             11.464826\n",
       "delta_similarity                                                                                                                -0.001019\n",
       "Name: 763, dtype: object"
      ]
     },
     "execution_count": 25,
     "metadata": {},
     "output_type": "execute_result"
    }
   ],
   "source": [
    "clap_equiv = df_clap.loc[763]\n",
    "clap_equiv"
   ]
  },
  {
   "cell_type": "code",
   "execution_count": 26,
   "metadata": {},
   "outputs": [
    {
     "name": "stderr",
     "output_type": "stream",
     "text": [
      "/tmp/ipykernel_2405437/211326714.py:58: RuntimeWarning: divide by zero encountered in log10\n",
      "  power = 10 * np.log10(Sxx)\n"
     ]
    }
   ],
   "source": [
    "output_dir = 'plots/onepeace_best_sdri'\n",
    "make_spectrograms_for_sample(clap_equiv, best_sdri, output_dir)"
   ]
  },
  {
   "cell_type": "code",
   "execution_count": 27,
   "metadata": {},
   "outputs": [
    {
     "data": {
      "text/plain": [
       "caption                                                                First, there is an explosion echo, then suddenly comes a big boom.\n",
       "source_path                                                                                         lass_validation/702285_5828667-hq.wav\n",
       "noise_path                                                                                         lass_validation/682322_10938187-hq.wav\n",
       "input_path            /fs/nexus-scratch/vla/lass_validation_baseline_output/('702285_5828667-hq.wav', '682322_10938187-hq.wav')_input.wav\n",
       "output_path          /fs/nexus-scratch/vla/lass_validation_baseline_output/('702285_5828667-hq.wav', '682322_10938187-hq.wav')_output.wav\n",
       "input_similarity                                                                                                                 0.145986\n",
       "output_similarity                                                                                                                0.369625\n",
       "target_similarity                                                                                                                0.319973\n",
       "sisdr                                                                                                                           23.419943\n",
       "sdri                                                                                                                            36.437798\n",
       "sdr                                                                                                                             23.437798\n",
       "delta_similarity                                                                                                                  0.22364\n",
       "Name: 1995, dtype: object"
      ]
     },
     "execution_count": 27,
     "metadata": {},
     "output_type": "execute_result"
    }
   ],
   "source": [
    "# best clap sdri example\n",
    "best_sdri = df_clap.sort_values(by = 'sdri', ascending=False).iloc[0]\n",
    "best_sdri"
   ]
  },
  {
   "cell_type": "code",
   "execution_count": 28,
   "metadata": {},
   "outputs": [
    {
     "data": {
      "text/plain": [
       "caption                                                                First, there is an explosion echo, then suddenly comes a big boom.\n",
       "source_path                                                                                         lass_validation/702285_5828667-hq.wav\n",
       "noise_path                                                                                         lass_validation/682322_10938187-hq.wav\n",
       "input_path            /fs/nexus-scratch/vla/lass_validation_onepeace_output/('702285_5828667-hq.wav', '682322_10938187-hq.wav')_input.wav\n",
       "output_path          /fs/nexus-scratch/vla/lass_validation_onepeace_output/('702285_5828667-hq.wav', '682322_10938187-hq.wav')_output.wav\n",
       "input_similarity                                                                                                                  0.21198\n",
       "output_similarity                                                                                                                0.417818\n",
       "target_similarity                                                                                                                0.555889\n",
       "sisdr                                                                                                                           21.935658\n",
       "sdri                                                                                                                            34.941967\n",
       "sdr                                                                                                                             21.941967\n",
       "delta_similarity                                                                                                                 0.205838\n",
       "Name: 1995, dtype: object"
      ]
     },
     "execution_count": 28,
     "metadata": {},
     "output_type": "execute_result"
    }
   ],
   "source": [
    "onepeace_equiv = df_onepeace.loc[1995]\n",
    "onepeace_equiv"
   ]
  },
  {
   "cell_type": "code",
   "execution_count": 29,
   "metadata": {},
   "outputs": [
    {
     "name": "stderr",
     "output_type": "stream",
     "text": [
      "/tmp/ipykernel_2405437/211326714.py:58: RuntimeWarning: divide by zero encountered in log10\n",
      "  power = 10 * np.log10(Sxx)\n"
     ]
    }
   ],
   "source": [
    "output_dir = 'plots/clap_best_sdri'\n",
    "make_spectrograms_for_sample(best_sdri, onepeace_equiv, output_dir)"
   ]
  },
  {
   "cell_type": "markdown",
   "metadata": {},
   "source": [
    "## Best delta_similarity"
   ]
  },
  {
   "cell_type": "code",
   "execution_count": 30,
   "metadata": {},
   "outputs": [
    {
     "data": {
      "text/plain": [
       "caption                                                      Fireworks are shot into the air with swirling sounds and then they explode.\n",
       "source_path                                                                                        lass_validation/694373_2578040-hq.wav\n",
       "noise_path                                                                                         lass_validation/707282_1661766-hq.wav\n",
       "input_path            /fs/nexus-scratch/vla/lass_validation_onepeace_output/('694373_2578040-hq.wav', '707282_1661766-hq.wav')_input.wav\n",
       "output_path          /fs/nexus-scratch/vla/lass_validation_onepeace_output/('694373_2578040-hq.wav', '707282_1661766-hq.wav')_output.wav\n",
       "input_similarity                                                                                                               -0.098684\n",
       "output_similarity                                                                                                               0.457966\n",
       "target_similarity                                                                                                               0.506086\n",
       "sisdr                                                                                                                          -2.399163\n",
       "sdri                                                                                                                           10.019444\n",
       "sdr                                                                                                                             0.019445\n",
       "delta_similarity                                                                                                                 0.55665\n",
       "Name: 986, dtype: object"
      ]
     },
     "execution_count": 30,
     "metadata": {},
     "output_type": "execute_result"
    }
   ],
   "source": [
    "best_delta_similarity = df_onepeace.sort_values(by = 'delta_similarity', ascending=False).iloc[0]\n",
    "best_delta_similarity"
   ]
  },
  {
   "cell_type": "code",
   "execution_count": 31,
   "metadata": {},
   "outputs": [
    {
     "data": {
      "text/plain": [
       "caption                                                      Fireworks are shot into the air with swirling sounds and then they explode.\n",
       "source_path                                                                                        lass_validation/694373_2578040-hq.wav\n",
       "noise_path                                                                                         lass_validation/707282_1661766-hq.wav\n",
       "input_path            /fs/nexus-scratch/vla/lass_validation_baseline_output/('694373_2578040-hq.wav', '707282_1661766-hq.wav')_input.wav\n",
       "output_path          /fs/nexus-scratch/vla/lass_validation_baseline_output/('694373_2578040-hq.wav', '707282_1661766-hq.wav')_output.wav\n",
       "input_similarity                                                                                                                0.246288\n",
       "output_similarity                                                                                                               0.369976\n",
       "target_similarity                                                                                                               0.324899\n",
       "sisdr                                                                                                                          -3.290662\n",
       "sdri                                                                                                                            7.501313\n",
       "sdr                                                                                                                            -2.498686\n",
       "delta_similarity                                                                                                                0.123688\n",
       "Name: 986, dtype: object"
      ]
     },
     "execution_count": 31,
     "metadata": {},
     "output_type": "execute_result"
    }
   ],
   "source": [
    "clap_equiv = df_clap.loc[986]\n",
    "clap_equiv"
   ]
  },
  {
   "cell_type": "code",
   "execution_count": 32,
   "metadata": {},
   "outputs": [],
   "source": [
    "output_dir = 'plots/onepeace_best_delta_similarity'\n",
    "make_spectrograms_for_sample(clap_equiv, best_delta_similarity, output_dir)"
   ]
  },
  {
   "cell_type": "code",
   "execution_count": 33,
   "metadata": {},
   "outputs": [
    {
     "data": {
      "text/plain": [
       "caption                                                                                     There is a sound of explosion in the distance.\n",
       "source_path                                                                                         lass_validation/699245_15101941-hq.wav\n",
       "noise_path                                                                                          lass_validation/686774_11771918-hq.wav\n",
       "input_path            /fs/nexus-scratch/vla/lass_validation_baseline_output/('699245_15101941-hq.wav', '686774_11771918-hq.wav')_input.wav\n",
       "output_path          /fs/nexus-scratch/vla/lass_validation_baseline_output/('699245_15101941-hq.wav', '686774_11771918-hq.wav')_output.wav\n",
       "input_similarity                                                                                                                 -0.077745\n",
       "output_similarity                                                                                                                 0.331277\n",
       "target_similarity                                                                                                                 0.450373\n",
       "sisdr                                                                                                                             1.711304\n",
       "sdri                                                                                                                             13.812068\n",
       "sdr                                                                                                                               3.812069\n",
       "delta_similarity                                                                                                                  0.409022\n",
       "Name: 621, dtype: object"
      ]
     },
     "execution_count": 33,
     "metadata": {},
     "output_type": "execute_result"
    }
   ],
   "source": [
    "best_delta_similarity = df_clap.sort_values(by = 'delta_similarity', ascending=False).iloc[0]\n",
    "best_delta_similarity"
   ]
  },
  {
   "cell_type": "code",
   "execution_count": 34,
   "metadata": {},
   "outputs": [
    {
     "data": {
      "text/plain": [
       "caption                                                                                     There is a sound of explosion in the distance.\n",
       "source_path                                                                                         lass_validation/699245_15101941-hq.wav\n",
       "noise_path                                                                                          lass_validation/686774_11771918-hq.wav\n",
       "input_path            /fs/nexus-scratch/vla/lass_validation_onepeace_output/('699245_15101941-hq.wav', '686774_11771918-hq.wav')_input.wav\n",
       "output_path          /fs/nexus-scratch/vla/lass_validation_onepeace_output/('699245_15101941-hq.wav', '686774_11771918-hq.wav')_output.wav\n",
       "input_similarity                                                                                                                  0.236577\n",
       "output_similarity                                                                                                                 0.512512\n",
       "target_similarity                                                                                                                 0.445723\n",
       "sisdr                                                                                                                             1.619325\n",
       "sdri                                                                                                                             12.209837\n",
       "sdr                                                                                                                               2.209838\n",
       "delta_similarity                                                                                                                  0.275935\n",
       "Name: 621, dtype: object"
      ]
     },
     "execution_count": 34,
     "metadata": {},
     "output_type": "execute_result"
    }
   ],
   "source": [
    "onepeace_equiv = df_onepeace.loc[621]\n",
    "onepeace_equiv"
   ]
  },
  {
   "cell_type": "code",
   "execution_count": 35,
   "metadata": {},
   "outputs": [],
   "source": [
    "output_dir = 'plots/clap_best_delta_similarity'\n",
    "make_spectrograms_for_sample(best_delta_similarity, onepeace_equiv, output_dir)"
   ]
  },
  {
   "cell_type": "markdown",
   "metadata": {},
   "source": [
    "## Best SISDR"
   ]
  },
  {
   "cell_type": "code",
   "execution_count": 36,
   "metadata": {},
   "outputs": [],
   "source": [
    "# NOTE: best SDR and SISDR score for ONE-PEACE is the same"
   ]
  },
  {
   "cell_type": "code",
   "execution_count": 37,
   "metadata": {},
   "outputs": [
    {
     "data": {
      "text/plain": [
       "caption                                                                                              Someone's heart is beating violently.\n",
       "source_path                                                                                         lass_validation/688735_10403690-hq.wav\n",
       "noise_path                                                                                          lass_validation/701640_10586310-hq.wav\n",
       "input_path            /fs/nexus-scratch/vla/lass_validation_baseline_output/('688735_10403690-hq.wav', '701640_10586310-hq.wav')_input.wav\n",
       "output_path          /fs/nexus-scratch/vla/lass_validation_baseline_output/('688735_10403690-hq.wav', '701640_10586310-hq.wav')_output.wav\n",
       "input_similarity                                                                                                                  0.257285\n",
       "output_similarity                                                                                                                 0.483456\n",
       "target_similarity                                                                                                                 0.376133\n",
       "sisdr                                                                                                                            40.515914\n",
       "sdri                                                                                                                              32.51269\n",
       "sdr                                                                                                                              40.512689\n",
       "delta_similarity                                                                                                                  0.226171\n",
       "Name: 2715, dtype: object"
      ]
     },
     "execution_count": 37,
     "metadata": {},
     "output_type": "execute_result"
    }
   ],
   "source": [
    "# NOTE: best SISDR and SDR score for CLAP is the same too\n",
    "best_sisdr = df_clap.sort_values(by = 'sisdr', ascending=False).iloc[0]\n",
    "best_sisdr"
   ]
  },
  {
   "cell_type": "markdown",
   "metadata": {},
   "source": [
    "## Looking for differences in performance"
   ]
  },
  {
   "cell_type": "code",
   "execution_count": 38,
   "metadata": {},
   "outputs": [
    {
     "data": {
      "text/html": [
       "<div>\n",
       "<style scoped>\n",
       "    .dataframe tbody tr th:only-of-type {\n",
       "        vertical-align: middle;\n",
       "    }\n",
       "\n",
       "    .dataframe tbody tr th {\n",
       "        vertical-align: top;\n",
       "    }\n",
       "\n",
       "    .dataframe thead th {\n",
       "        text-align: right;\n",
       "    }\n",
       "</style>\n",
       "<table border=\"1\" class=\"dataframe\">\n",
       "  <thead>\n",
       "    <tr style=\"text-align: right;\">\n",
       "      <th></th>\n",
       "      <th>caption_onepeace</th>\n",
       "      <th>source_path_onepeace</th>\n",
       "      <th>noise_path_onepeace</th>\n",
       "      <th>input_path_onepeace</th>\n",
       "      <th>output_path_onepeace</th>\n",
       "      <th>input_similarity_onepeace</th>\n",
       "      <th>output_similarity_onepeace</th>\n",
       "      <th>target_similarity_onepeace</th>\n",
       "      <th>sisdr_onepeace</th>\n",
       "      <th>sdri_onepeace</th>\n",
       "      <th>...</th>\n",
       "      <th>noise_path_clap</th>\n",
       "      <th>input_path_clap</th>\n",
       "      <th>output_path_clap</th>\n",
       "      <th>input_similarity_clap</th>\n",
       "      <th>output_similarity_clap</th>\n",
       "      <th>target_similarity_clap</th>\n",
       "      <th>sisdr_clap</th>\n",
       "      <th>sdri_clap</th>\n",
       "      <th>sdr_clap</th>\n",
       "      <th>delta_similarity_clap</th>\n",
       "    </tr>\n",
       "  </thead>\n",
       "  <tbody>\n",
       "    <tr>\n",
       "      <th>0</th>\n",
       "      <td>Someone is playing a kind of musical instrument, which makes a buzzing sound.</td>\n",
       "      <td>lass_validation/692211_12333864-hq.wav</td>\n",
       "      <td>lass_validation/701692_6014995-hq.wav</td>\n",
       "      <td>/fs/nexus-scratch/vla/lass_validation_onepeace_output/('692211_12333864-hq.wav', '701692_6014995-hq.wav')_input.wav</td>\n",
       "      <td>/fs/nexus-scratch/vla/lass_validation_onepeace_output/('692211_12333864-hq.wav', '701692_6014995-hq.wav')_output.wav</td>\n",
       "      <td>0.401701</td>\n",
       "      <td>0.403737</td>\n",
       "      <td>0.470765</td>\n",
       "      <td>9.953128</td>\n",
       "      <td>0.024985</td>\n",
       "      <td>...</td>\n",
       "      <td>lass_validation/701692_6014995-hq.wav</td>\n",
       "      <td>/fs/nexus-scratch/vla/lass_validation_baseline_output/('692211_12333864-hq.wav', '701692_6014995-hq.wav')_input.wav</td>\n",
       "      <td>/fs/nexus-scratch/vla/lass_validation_baseline_output/('692211_12333864-hq.wav', '701692_6014995-hq.wav')_output.wav</td>\n",
       "      <td>0.081376</td>\n",
       "      <td>0.085678</td>\n",
       "      <td>0.099061</td>\n",
       "      <td>9.980114</td>\n",
       "      <td>0.076613</td>\n",
       "      <td>10.076612</td>\n",
       "      <td>0.004302</td>\n",
       "    </tr>\n",
       "    <tr>\n",
       "      <th>1</th>\n",
       "      <td>Someone is playing the musical instrument, which produces buzzing sounds.</td>\n",
       "      <td>lass_validation/692211_12333864-hq.wav</td>\n",
       "      <td>lass_validation/708399_14710576-hq.wav</td>\n",
       "      <td>/fs/nexus-scratch/vla/lass_validation_onepeace_output/('692211_12333864-hq.wav', '708399_14710576-hq.wav')_input.wav</td>\n",
       "      <td>/fs/nexus-scratch/vla/lass_validation_onepeace_output/('692211_12333864-hq.wav', '708399_14710576-hq.wav')_output.wav</td>\n",
       "      <td>0.306772</td>\n",
       "      <td>0.284680</td>\n",
       "      <td>0.452296</td>\n",
       "      <td>9.277602</td>\n",
       "      <td>8.761090</td>\n",
       "      <td>...</td>\n",
       "      <td>lass_validation/708399_14710576-hq.wav</td>\n",
       "      <td>/fs/nexus-scratch/vla/lass_validation_baseline_output/('692211_12333864-hq.wav', '708399_14710576-hq.wav')_input.wav</td>\n",
       "      <td>/fs/nexus-scratch/vla/lass_validation_baseline_output/('692211_12333864-hq.wav', '708399_14710576-hq.wav')_output.wav</td>\n",
       "      <td>0.201099</td>\n",
       "      <td>0.182382</td>\n",
       "      <td>0.136972</td>\n",
       "      <td>9.162392</td>\n",
       "      <td>8.639180</td>\n",
       "      <td>9.639180</td>\n",
       "      <td>-0.018717</td>\n",
       "    </tr>\n",
       "    <tr>\n",
       "      <th>2</th>\n",
       "      <td>The musical instrument is producing buzzing sounds.</td>\n",
       "      <td>lass_validation/692211_12333864-hq.wav</td>\n",
       "      <td>lass_validation/708360_14781196-hq.wav</td>\n",
       "      <td>/fs/nexus-scratch/vla/lass_validation_onepeace_output/('692211_12333864-hq.wav', '708360_14781196-hq.wav')_input.wav</td>\n",
       "      <td>/fs/nexus-scratch/vla/lass_validation_onepeace_output/('692211_12333864-hq.wav', '708360_14781196-hq.wav')_output.wav</td>\n",
       "      <td>0.293939</td>\n",
       "      <td>0.356307</td>\n",
       "      <td>0.487627</td>\n",
       "      <td>1.753260</td>\n",
       "      <td>16.971467</td>\n",
       "      <td>...</td>\n",
       "      <td>lass_validation/708360_14781196-hq.wav</td>\n",
       "      <td>/fs/nexus-scratch/vla/lass_validation_baseline_output/('692211_12333864-hq.wav', '708360_14781196-hq.wav')_input.wav</td>\n",
       "      <td>/fs/nexus-scratch/vla/lass_validation_baseline_output/('692211_12333864-hq.wav', '708360_14781196-hq.wav')_output.wav</td>\n",
       "      <td>0.238575</td>\n",
       "      <td>0.220378</td>\n",
       "      <td>0.192079</td>\n",
       "      <td>1.553409</td>\n",
       "      <td>16.836760</td>\n",
       "      <td>3.836760</td>\n",
       "      <td>-0.018197</td>\n",
       "    </tr>\n",
       "    <tr>\n",
       "      <th>3</th>\n",
       "      <td>There are some motorcycles and cars on the road starting their engines and speeding past.</td>\n",
       "      <td>lass_validation/699830_15175263-hq.wav</td>\n",
       "      <td>lass_validation/692865_2250422-hq.wav</td>\n",
       "      <td>/fs/nexus-scratch/vla/lass_validation_onepeace_output/('699830_15175263-hq.wav', '692865_2250422-hq.wav')_input.wav</td>\n",
       "      <td>/fs/nexus-scratch/vla/lass_validation_onepeace_output/('699830_15175263-hq.wav', '692865_2250422-hq.wav')_output.wav</td>\n",
       "      <td>0.060706</td>\n",
       "      <td>0.220841</td>\n",
       "      <td>0.240632</td>\n",
       "      <td>5.140363</td>\n",
       "      <td>12.075294</td>\n",
       "      <td>...</td>\n",
       "      <td>lass_validation/692865_2250422-hq.wav</td>\n",
       "      <td>/fs/nexus-scratch/vla/lass_validation_baseline_output/('699830_15175263-hq.wav', '692865_2250422-hq.wav')_input.wav</td>\n",
       "      <td>/fs/nexus-scratch/vla/lass_validation_baseline_output/('699830_15175263-hq.wav', '692865_2250422-hq.wav')_output.wav</td>\n",
       "      <td>0.271937</td>\n",
       "      <td>0.245885</td>\n",
       "      <td>0.266185</td>\n",
       "      <td>4.121937</td>\n",
       "      <td>11.542630</td>\n",
       "      <td>5.542631</td>\n",
       "      <td>-0.026052</td>\n",
       "    </tr>\n",
       "    <tr>\n",
       "      <th>4</th>\n",
       "      <td>A race car engine roars as it accelerates and passes on the track.</td>\n",
       "      <td>lass_validation/699830_15175263-hq.wav</td>\n",
       "      <td>lass_validation/695808_5812781-hq.wav</td>\n",
       "      <td>/fs/nexus-scratch/vla/lass_validation_onepeace_output/('699830_15175263-hq.wav', '695808_5812781-hq.wav')_input.wav</td>\n",
       "      <td>/fs/nexus-scratch/vla/lass_validation_onepeace_output/('699830_15175263-hq.wav', '695808_5812781-hq.wav')_output.wav</td>\n",
       "      <td>0.355908</td>\n",
       "      <td>0.388010</td>\n",
       "      <td>0.422350</td>\n",
       "      <td>10.268353</td>\n",
       "      <td>0.391239</td>\n",
       "      <td>...</td>\n",
       "      <td>lass_validation/695808_5812781-hq.wav</td>\n",
       "      <td>/fs/nexus-scratch/vla/lass_validation_baseline_output/('699830_15175263-hq.wav', '695808_5812781-hq.wav')_input.wav</td>\n",
       "      <td>/fs/nexus-scratch/vla/lass_validation_baseline_output/('699830_15175263-hq.wav', '695808_5812781-hq.wav')_output.wav</td>\n",
       "      <td>0.399825</td>\n",
       "      <td>0.388841</td>\n",
       "      <td>0.358980</td>\n",
       "      <td>10.251572</td>\n",
       "      <td>0.306949</td>\n",
       "      <td>10.306949</td>\n",
       "      <td>-0.010984</td>\n",
       "    </tr>\n",
       "  </tbody>\n",
       "</table>\n",
       "<p>5 rows × 24 columns</p>\n",
       "</div>"
      ],
      "text/plain": [
       "                                                                            caption_onepeace  \\\n",
       "0              Someone is playing a kind of musical instrument, which makes a buzzing sound.   \n",
       "1                  Someone is playing the musical instrument, which produces buzzing sounds.   \n",
       "2                                        The musical instrument is producing buzzing sounds.   \n",
       "3  There are some motorcycles and cars on the road starting their engines and speeding past.   \n",
       "4                         A race car engine roars as it accelerates and passes on the track.   \n",
       "\n",
       "                     source_path_onepeace  \\\n",
       "0  lass_validation/692211_12333864-hq.wav   \n",
       "1  lass_validation/692211_12333864-hq.wav   \n",
       "2  lass_validation/692211_12333864-hq.wav   \n",
       "3  lass_validation/699830_15175263-hq.wav   \n",
       "4  lass_validation/699830_15175263-hq.wav   \n",
       "\n",
       "                      noise_path_onepeace  \\\n",
       "0   lass_validation/701692_6014995-hq.wav   \n",
       "1  lass_validation/708399_14710576-hq.wav   \n",
       "2  lass_validation/708360_14781196-hq.wav   \n",
       "3   lass_validation/692865_2250422-hq.wav   \n",
       "4   lass_validation/695808_5812781-hq.wav   \n",
       "\n",
       "                                                                                                    input_path_onepeace  \\\n",
       "0   /fs/nexus-scratch/vla/lass_validation_onepeace_output/('692211_12333864-hq.wav', '701692_6014995-hq.wav')_input.wav   \n",
       "1  /fs/nexus-scratch/vla/lass_validation_onepeace_output/('692211_12333864-hq.wav', '708399_14710576-hq.wav')_input.wav   \n",
       "2  /fs/nexus-scratch/vla/lass_validation_onepeace_output/('692211_12333864-hq.wav', '708360_14781196-hq.wav')_input.wav   \n",
       "3   /fs/nexus-scratch/vla/lass_validation_onepeace_output/('699830_15175263-hq.wav', '692865_2250422-hq.wav')_input.wav   \n",
       "4   /fs/nexus-scratch/vla/lass_validation_onepeace_output/('699830_15175263-hq.wav', '695808_5812781-hq.wav')_input.wav   \n",
       "\n",
       "                                                                                                    output_path_onepeace  \\\n",
       "0   /fs/nexus-scratch/vla/lass_validation_onepeace_output/('692211_12333864-hq.wav', '701692_6014995-hq.wav')_output.wav   \n",
       "1  /fs/nexus-scratch/vla/lass_validation_onepeace_output/('692211_12333864-hq.wav', '708399_14710576-hq.wav')_output.wav   \n",
       "2  /fs/nexus-scratch/vla/lass_validation_onepeace_output/('692211_12333864-hq.wav', '708360_14781196-hq.wav')_output.wav   \n",
       "3   /fs/nexus-scratch/vla/lass_validation_onepeace_output/('699830_15175263-hq.wav', '692865_2250422-hq.wav')_output.wav   \n",
       "4   /fs/nexus-scratch/vla/lass_validation_onepeace_output/('699830_15175263-hq.wav', '695808_5812781-hq.wav')_output.wav   \n",
       "\n",
       "   input_similarity_onepeace  output_similarity_onepeace  \\\n",
       "0                   0.401701                    0.403737   \n",
       "1                   0.306772                    0.284680   \n",
       "2                   0.293939                    0.356307   \n",
       "3                   0.060706                    0.220841   \n",
       "4                   0.355908                    0.388010   \n",
       "\n",
       "   target_similarity_onepeace  sisdr_onepeace  sdri_onepeace  ...  \\\n",
       "0                    0.470765        9.953128       0.024985  ...   \n",
       "1                    0.452296        9.277602       8.761090  ...   \n",
       "2                    0.487627        1.753260      16.971467  ...   \n",
       "3                    0.240632        5.140363      12.075294  ...   \n",
       "4                    0.422350       10.268353       0.391239  ...   \n",
       "\n",
       "                          noise_path_clap  \\\n",
       "0   lass_validation/701692_6014995-hq.wav   \n",
       "1  lass_validation/708399_14710576-hq.wav   \n",
       "2  lass_validation/708360_14781196-hq.wav   \n",
       "3   lass_validation/692865_2250422-hq.wav   \n",
       "4   lass_validation/695808_5812781-hq.wav   \n",
       "\n",
       "                                                                                                        input_path_clap  \\\n",
       "0   /fs/nexus-scratch/vla/lass_validation_baseline_output/('692211_12333864-hq.wav', '701692_6014995-hq.wav')_input.wav   \n",
       "1  /fs/nexus-scratch/vla/lass_validation_baseline_output/('692211_12333864-hq.wav', '708399_14710576-hq.wav')_input.wav   \n",
       "2  /fs/nexus-scratch/vla/lass_validation_baseline_output/('692211_12333864-hq.wav', '708360_14781196-hq.wav')_input.wav   \n",
       "3   /fs/nexus-scratch/vla/lass_validation_baseline_output/('699830_15175263-hq.wav', '692865_2250422-hq.wav')_input.wav   \n",
       "4   /fs/nexus-scratch/vla/lass_validation_baseline_output/('699830_15175263-hq.wav', '695808_5812781-hq.wav')_input.wav   \n",
       "\n",
       "                                                                                                        output_path_clap  \\\n",
       "0   /fs/nexus-scratch/vla/lass_validation_baseline_output/('692211_12333864-hq.wav', '701692_6014995-hq.wav')_output.wav   \n",
       "1  /fs/nexus-scratch/vla/lass_validation_baseline_output/('692211_12333864-hq.wav', '708399_14710576-hq.wav')_output.wav   \n",
       "2  /fs/nexus-scratch/vla/lass_validation_baseline_output/('692211_12333864-hq.wav', '708360_14781196-hq.wav')_output.wav   \n",
       "3   /fs/nexus-scratch/vla/lass_validation_baseline_output/('699830_15175263-hq.wav', '692865_2250422-hq.wav')_output.wav   \n",
       "4   /fs/nexus-scratch/vla/lass_validation_baseline_output/('699830_15175263-hq.wav', '695808_5812781-hq.wav')_output.wav   \n",
       "\n",
       "  input_similarity_clap output_similarity_clap target_similarity_clap  \\\n",
       "0              0.081376               0.085678               0.099061   \n",
       "1              0.201099               0.182382               0.136972   \n",
       "2              0.238575               0.220378               0.192079   \n",
       "3              0.271937               0.245885               0.266185   \n",
       "4              0.399825               0.388841               0.358980   \n",
       "\n",
       "  sisdr_clap  sdri_clap   sdr_clap  delta_similarity_clap  \n",
       "0   9.980114   0.076613  10.076612               0.004302  \n",
       "1   9.162392   8.639180   9.639180              -0.018717  \n",
       "2   1.553409  16.836760   3.836760              -0.018197  \n",
       "3   4.121937  11.542630   5.542631              -0.026052  \n",
       "4  10.251572   0.306949  10.306949              -0.010984  \n",
       "\n",
       "[5 rows x 24 columns]"
      ]
     },
     "execution_count": 38,
     "metadata": {},
     "output_type": "execute_result"
    }
   ],
   "source": [
    "df_all = df_onepeace.join(df_clap, lsuffix= '_onepeace', rsuffix='_clap')\n",
    "df_all[:5]"
   ]
  },
  {
   "cell_type": "code",
   "execution_count": 39,
   "metadata": {},
   "outputs": [
    {
     "data": {
      "text/html": [
       "<div>\n",
       "<style scoped>\n",
       "    .dataframe tbody tr th:only-of-type {\n",
       "        vertical-align: middle;\n",
       "    }\n",
       "\n",
       "    .dataframe tbody tr th {\n",
       "        vertical-align: top;\n",
       "    }\n",
       "\n",
       "    .dataframe thead th {\n",
       "        text-align: right;\n",
       "    }\n",
       "</style>\n",
       "<table border=\"1\" class=\"dataframe\">\n",
       "  <thead>\n",
       "    <tr style=\"text-align: right;\">\n",
       "      <th></th>\n",
       "      <th>sdr_onepeace</th>\n",
       "      <th>sdr_clap</th>\n",
       "    </tr>\n",
       "  </thead>\n",
       "  <tbody>\n",
       "    <tr>\n",
       "      <th>2780</th>\n",
       "      <td>-14.956078</td>\n",
       "      <td>-9.921728</td>\n",
       "    </tr>\n",
       "    <tr>\n",
       "      <th>2120</th>\n",
       "      <td>-14.939930</td>\n",
       "      <td>-14.931655</td>\n",
       "    </tr>\n",
       "    <tr>\n",
       "      <th>2296</th>\n",
       "      <td>-14.842997</td>\n",
       "      <td>-14.399668</td>\n",
       "    </tr>\n",
       "    <tr>\n",
       "      <th>1923</th>\n",
       "      <td>-14.527849</td>\n",
       "      <td>-7.170307</td>\n",
       "    </tr>\n",
       "    <tr>\n",
       "      <th>795</th>\n",
       "      <td>-14.079497</td>\n",
       "      <td>-13.644784</td>\n",
       "    </tr>\n",
       "    <tr>\n",
       "      <th>585</th>\n",
       "      <td>-14.018537</td>\n",
       "      <td>2.865011</td>\n",
       "    </tr>\n",
       "    <tr>\n",
       "      <th>1144</th>\n",
       "      <td>-14.015432</td>\n",
       "      <td>-13.988082</td>\n",
       "    </tr>\n",
       "    <tr>\n",
       "      <th>1935</th>\n",
       "      <td>-13.960302</td>\n",
       "      <td>-5.419256</td>\n",
       "    </tr>\n",
       "    <tr>\n",
       "      <th>974</th>\n",
       "      <td>-13.950046</td>\n",
       "      <td>-12.911837</td>\n",
       "    </tr>\n",
       "    <tr>\n",
       "      <th>583</th>\n",
       "      <td>-13.877188</td>\n",
       "      <td>-13.511446</td>\n",
       "    </tr>\n",
       "    <tr>\n",
       "      <th>1661</th>\n",
       "      <td>-13.866176</td>\n",
       "      <td>-12.595321</td>\n",
       "    </tr>\n",
       "    <tr>\n",
       "      <th>1450</th>\n",
       "      <td>-13.785861</td>\n",
       "      <td>-12.382021</td>\n",
       "    </tr>\n",
       "    <tr>\n",
       "      <th>2277</th>\n",
       "      <td>-13.744136</td>\n",
       "      <td>-12.549586</td>\n",
       "    </tr>\n",
       "    <tr>\n",
       "      <th>2558</th>\n",
       "      <td>-13.513509</td>\n",
       "      <td>-13.180344</td>\n",
       "    </tr>\n",
       "    <tr>\n",
       "      <th>268</th>\n",
       "      <td>-13.510491</td>\n",
       "      <td>-14.938893</td>\n",
       "    </tr>\n",
       "    <tr>\n",
       "      <th>2218</th>\n",
       "      <td>-13.469725</td>\n",
       "      <td>-12.077129</td>\n",
       "    </tr>\n",
       "    <tr>\n",
       "      <th>2737</th>\n",
       "      <td>-13.077534</td>\n",
       "      <td>-3.072344</td>\n",
       "    </tr>\n",
       "    <tr>\n",
       "      <th>2589</th>\n",
       "      <td>-12.997093</td>\n",
       "      <td>-13.271526</td>\n",
       "    </tr>\n",
       "    <tr>\n",
       "      <th>2167</th>\n",
       "      <td>-12.927873</td>\n",
       "      <td>-12.773320</td>\n",
       "    </tr>\n",
       "    <tr>\n",
       "      <th>2683</th>\n",
       "      <td>-12.898680</td>\n",
       "      <td>-12.727948</td>\n",
       "    </tr>\n",
       "  </tbody>\n",
       "</table>\n",
       "</div>"
      ],
      "text/plain": [
       "      sdr_onepeace   sdr_clap\n",
       "2780    -14.956078  -9.921728\n",
       "2120    -14.939930 -14.931655\n",
       "2296    -14.842997 -14.399668\n",
       "1923    -14.527849  -7.170307\n",
       "795     -14.079497 -13.644784\n",
       "585     -14.018537   2.865011\n",
       "1144    -14.015432 -13.988082\n",
       "1935    -13.960302  -5.419256\n",
       "974     -13.950046 -12.911837\n",
       "583     -13.877188 -13.511446\n",
       "1661    -13.866176 -12.595321\n",
       "1450    -13.785861 -12.382021\n",
       "2277    -13.744136 -12.549586\n",
       "2558    -13.513509 -13.180344\n",
       "268     -13.510491 -14.938893\n",
       "2218    -13.469725 -12.077129\n",
       "2737    -13.077534  -3.072344\n",
       "2589    -12.997093 -13.271526\n",
       "2167    -12.927873 -12.773320\n",
       "2683    -12.898680 -12.727948"
      ]
     },
     "execution_count": 39,
     "metadata": {},
     "output_type": "execute_result"
    }
   ],
   "source": [
    "df_all.sort_values(by = 'sdr_onepeace')[['sdr_onepeace', 'sdr_clap']][:20]"
   ]
  },
  {
   "cell_type": "code",
   "execution_count": 40,
   "metadata": {},
   "outputs": [],
   "source": [
    "# Lets look at index == 585"
   ]
  },
  {
   "cell_type": "code",
   "execution_count": 41,
   "metadata": {},
   "outputs": [
    {
     "data": {
      "text/plain": [
       "caption                                                                             A scary music is coming from the speech synthesizer.\n",
       "source_path                                                                                       lass_validation/696701_12458758-hq.wav\n",
       "noise_path                                                                                          lass_validation/711215_589889-hq.wav\n",
       "input_path            /fs/nexus-scratch/vla/lass_validation_baseline_output/('696701_12458758-hq.wav', '711215_589889-hq.wav')_input.wav\n",
       "output_path          /fs/nexus-scratch/vla/lass_validation_baseline_output/('696701_12458758-hq.wav', '711215_589889-hq.wav')_output.wav\n",
       "input_similarity                                                                                                                0.145807\n",
       "output_similarity                                                                                                               0.266206\n",
       "target_similarity                                                                                                                0.26886\n",
       "sisdr                                                                                                                           1.517525\n",
       "sdri                                                                                                                            17.86501\n",
       "sdr                                                                                                                             2.865011\n",
       "delta_similarity                                                                                                                0.120399\n",
       "Name: 585, dtype: object"
      ]
     },
     "execution_count": 41,
     "metadata": {},
     "output_type": "execute_result"
    }
   ],
   "source": [
    "clap_sample = df_clap.loc[585]\n",
    "clap_sample"
   ]
  },
  {
   "cell_type": "code",
   "execution_count": 42,
   "metadata": {},
   "outputs": [
    {
     "data": {
      "text/plain": [
       "caption                                                                             A scary music is coming from the speech synthesizer.\n",
       "source_path                                                                                       lass_validation/696701_12458758-hq.wav\n",
       "noise_path                                                                                          lass_validation/711215_589889-hq.wav\n",
       "input_path            /fs/nexus-scratch/vla/lass_validation_onepeace_output/('696701_12458758-hq.wav', '711215_589889-hq.wav')_input.wav\n",
       "output_path          /fs/nexus-scratch/vla/lass_validation_onepeace_output/('696701_12458758-hq.wav', '711215_589889-hq.wav')_output.wav\n",
       "input_similarity                                                                                                                0.113926\n",
       "output_similarity                                                                                                               0.147124\n",
       "target_similarity                                                                                                               0.267114\n",
       "sisdr                                                                                                                         -14.558293\n",
       "sdri                                                                                                                            0.981463\n",
       "sdr                                                                                                                           -14.018537\n",
       "delta_similarity                                                                                                                0.033198\n",
       "Name: 585, dtype: object"
      ]
     },
     "execution_count": 42,
     "metadata": {},
     "output_type": "execute_result"
    }
   ],
   "source": [
    "onepeace_sample = df_onepeace.loc[585]\n",
    "onepeace_sample"
   ]
  },
  {
   "cell_type": "code",
   "execution_count": 43,
   "metadata": {},
   "outputs": [],
   "source": [
    "output_dir = 'plots/speech_synth'\n",
    "make_spectrograms_for_sample(clap_sample, onepeace_sample, output_dir)"
   ]
  },
  {
   "cell_type": "code",
   "execution_count": 44,
   "metadata": {},
   "outputs": [
    {
     "data": {
      "text/html": [
       "<div>\n",
       "<style scoped>\n",
       "    .dataframe tbody tr th:only-of-type {\n",
       "        vertical-align: middle;\n",
       "    }\n",
       "\n",
       "    .dataframe tbody tr th {\n",
       "        vertical-align: top;\n",
       "    }\n",
       "\n",
       "    .dataframe thead th {\n",
       "        text-align: right;\n",
       "    }\n",
       "</style>\n",
       "<table border=\"1\" class=\"dataframe\">\n",
       "  <thead>\n",
       "    <tr style=\"text-align: right;\">\n",
       "      <th></th>\n",
       "      <th>sdr_onepeace</th>\n",
       "      <th>sdr_clap</th>\n",
       "    </tr>\n",
       "  </thead>\n",
       "  <tbody>\n",
       "    <tr>\n",
       "      <th>2715</th>\n",
       "      <td>23.707760</td>\n",
       "      <td>40.512689</td>\n",
       "    </tr>\n",
       "    <tr>\n",
       "      <th>2717</th>\n",
       "      <td>34.872441</td>\n",
       "      <td>36.795452</td>\n",
       "    </tr>\n",
       "    <tr>\n",
       "      <th>762</th>\n",
       "      <td>30.361415</td>\n",
       "      <td>33.221822</td>\n",
       "    </tr>\n",
       "    <tr>\n",
       "      <th>1447</th>\n",
       "      <td>26.033084</td>\n",
       "      <td>29.110645</td>\n",
       "    </tr>\n",
       "    <tr>\n",
       "      <th>1684</th>\n",
       "      <td>29.194786</td>\n",
       "      <td>28.924105</td>\n",
       "    </tr>\n",
       "    <tr>\n",
       "      <th>285</th>\n",
       "      <td>2.020119</td>\n",
       "      <td>28.562864</td>\n",
       "    </tr>\n",
       "    <tr>\n",
       "      <th>1095</th>\n",
       "      <td>11.402878</td>\n",
       "      <td>28.207850</td>\n",
       "    </tr>\n",
       "    <tr>\n",
       "      <th>523</th>\n",
       "      <td>31.687647</td>\n",
       "      <td>28.187472</td>\n",
       "    </tr>\n",
       "    <tr>\n",
       "      <th>72</th>\n",
       "      <td>28.881415</td>\n",
       "      <td>28.006727</td>\n",
       "    </tr>\n",
       "    <tr>\n",
       "      <th>2161</th>\n",
       "      <td>26.613791</td>\n",
       "      <td>27.781611</td>\n",
       "    </tr>\n",
       "    <tr>\n",
       "      <th>2892</th>\n",
       "      <td>16.784171</td>\n",
       "      <td>26.751883</td>\n",
       "    </tr>\n",
       "    <tr>\n",
       "      <th>64</th>\n",
       "      <td>20.646773</td>\n",
       "      <td>26.674950</td>\n",
       "    </tr>\n",
       "    <tr>\n",
       "      <th>2113</th>\n",
       "      <td>0.027245</td>\n",
       "      <td>26.300136</td>\n",
       "    </tr>\n",
       "    <tr>\n",
       "      <th>1263</th>\n",
       "      <td>23.877047</td>\n",
       "      <td>25.994366</td>\n",
       "    </tr>\n",
       "    <tr>\n",
       "      <th>2744</th>\n",
       "      <td>16.973813</td>\n",
       "      <td>25.525052</td>\n",
       "    </tr>\n",
       "    <tr>\n",
       "      <th>2703</th>\n",
       "      <td>23.798630</td>\n",
       "      <td>25.081517</td>\n",
       "    </tr>\n",
       "    <tr>\n",
       "      <th>1863</th>\n",
       "      <td>3.710638</td>\n",
       "      <td>25.051820</td>\n",
       "    </tr>\n",
       "    <tr>\n",
       "      <th>470</th>\n",
       "      <td>20.782474</td>\n",
       "      <td>24.801369</td>\n",
       "    </tr>\n",
       "    <tr>\n",
       "      <th>1026</th>\n",
       "      <td>24.102193</td>\n",
       "      <td>24.568949</td>\n",
       "    </tr>\n",
       "    <tr>\n",
       "      <th>687</th>\n",
       "      <td>18.793223</td>\n",
       "      <td>24.184583</td>\n",
       "    </tr>\n",
       "  </tbody>\n",
       "</table>\n",
       "</div>"
      ],
      "text/plain": [
       "      sdr_onepeace   sdr_clap\n",
       "2715     23.707760  40.512689\n",
       "2717     34.872441  36.795452\n",
       "762      30.361415  33.221822\n",
       "1447     26.033084  29.110645\n",
       "1684     29.194786  28.924105\n",
       "285       2.020119  28.562864\n",
       "1095     11.402878  28.207850\n",
       "523      31.687647  28.187472\n",
       "72       28.881415  28.006727\n",
       "2161     26.613791  27.781611\n",
       "2892     16.784171  26.751883\n",
       "64       20.646773  26.674950\n",
       "2113      0.027245  26.300136\n",
       "1263     23.877047  25.994366\n",
       "2744     16.973813  25.525052\n",
       "2703     23.798630  25.081517\n",
       "1863      3.710638  25.051820\n",
       "470      20.782474  24.801369\n",
       "1026     24.102193  24.568949\n",
       "687      18.793223  24.184583"
      ]
     },
     "execution_count": 44,
     "metadata": {},
     "output_type": "execute_result"
    }
   ],
   "source": [
    "df_all.sort_values(by = 'sdr_clap', ascending=False)[['sdr_onepeace', 'sdr_clap']][:20]"
   ]
  },
  {
   "cell_type": "code",
   "execution_count": 45,
   "metadata": {},
   "outputs": [],
   "source": [
    "# lets look at index == 285"
   ]
  },
  {
   "cell_type": "code",
   "execution_count": 46,
   "metadata": {},
   "outputs": [
    {
     "data": {
      "text/plain": [
       "caption                                                  The sword swooshes through the air as someone waves it, making a whooshing sound.\n",
       "source_path                                                                                         lass_validation/699930_10996917-hq.wav\n",
       "noise_path                                                                                          lass_validation/683018_10624050-hq.wav\n",
       "input_path            /fs/nexus-scratch/vla/lass_validation_baseline_output/('699930_10996917-hq.wav', '683018_10624050-hq.wav')_input.wav\n",
       "output_path          /fs/nexus-scratch/vla/lass_validation_baseline_output/('699930_10996917-hq.wav', '683018_10624050-hq.wav')_output.wav\n",
       "input_similarity                                                                                                                  0.390963\n",
       "output_similarity                                                                                                                 0.560391\n",
       "target_similarity                                                                                                                 0.378169\n",
       "sisdr                                                                                                                            28.560207\n",
       "sdri                                                                                                                             13.562865\n",
       "sdr                                                                                                                              28.562864\n",
       "delta_similarity                                                                                                                  0.169428\n",
       "Name: 285, dtype: object"
      ]
     },
     "execution_count": 46,
     "metadata": {},
     "output_type": "execute_result"
    }
   ],
   "source": [
    "clap_sample = df_clap.loc[285]\n",
    "clap_sample"
   ]
  },
  {
   "cell_type": "code",
   "execution_count": 47,
   "metadata": {},
   "outputs": [
    {
     "data": {
      "text/plain": [
       "caption                                                  The sword swooshes through the air as someone waves it, making a whooshing sound.\n",
       "source_path                                                                                         lass_validation/699930_10996917-hq.wav\n",
       "noise_path                                                                                          lass_validation/683018_10624050-hq.wav\n",
       "input_path            /fs/nexus-scratch/vla/lass_validation_onepeace_output/('699930_10996917-hq.wav', '683018_10624050-hq.wav')_input.wav\n",
       "output_path          /fs/nexus-scratch/vla/lass_validation_onepeace_output/('699930_10996917-hq.wav', '683018_10624050-hq.wav')_output.wav\n",
       "input_similarity                                                                                                                  0.163938\n",
       "output_similarity                                                                                                                 0.315517\n",
       "target_similarity                                                                                                                  0.38842\n",
       "sisdr                                                                                                                             -1.72399\n",
       "sdri                                                                                                                             -12.97988\n",
       "sdr                                                                                                                               2.020119\n",
       "delta_similarity                                                                                                                  0.151579\n",
       "Name: 285, dtype: object"
      ]
     },
     "execution_count": 47,
     "metadata": {},
     "output_type": "execute_result"
    }
   ],
   "source": [
    "onepeace_sample = df_onepeace.loc[285]\n",
    "onepeace_sample"
   ]
  },
  {
   "cell_type": "code",
   "execution_count": 48,
   "metadata": {},
   "outputs": [
    {
     "name": "stderr",
     "output_type": "stream",
     "text": [
      "/tmp/ipykernel_2405437/211326714.py:58: RuntimeWarning: divide by zero encountered in log10\n",
      "  power = 10 * np.log10(Sxx)\n",
      "/fs/nexus-scratch/vla/micromamba/envs/LASS/lib/python3.9/site-packages/matplotlib/colors.py:744: RuntimeWarning: overflow encountered in multiply\n",
      "  xa *= self.N\n",
      "/tmp/ipykernel_2405437/211326714.py:40: RuntimeWarning: divide by zero encountered in log10\n",
      "  plt.pcolormesh(times, frequencies, 10 * np.log10(Sxx), shading='gouraud', cmap = 'plasma',\n"
     ]
    }
   ],
   "source": [
    "output_dir = 'plots/sword_swoosh'\n",
    "make_spectrograms_for_sample(clap_sample, onepeace_sample, output_dir)"
   ]
  }
 ],
 "metadata": {
  "kernelspec": {
   "display_name": "Python 3",
   "language": "python",
   "name": "python3"
  },
  "language_info": {
   "codemirror_mode": {
    "name": "ipython",
    "version": 3
   },
   "file_extension": ".py",
   "mimetype": "text/x-python",
   "name": "python",
   "nbconvert_exporter": "python",
   "pygments_lexer": "ipython3",
   "version": "3.9.0"
  }
 },
 "nbformat": 4,
 "nbformat_minor": 2
}
